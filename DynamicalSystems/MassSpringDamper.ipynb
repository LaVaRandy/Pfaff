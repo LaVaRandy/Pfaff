{
 "cells": [
  {
   "cell_type": "markdown",
   "metadata": {},
   "source": [
    "# Dynamical systems in Python\n",
    "\n",
    "Quite frequently, engineering problems require simulation of dynamical system, i.e. systems governed by differential equations.\n",
    "\n",
    "We will cover linear time invariant (LTI) systems as well as nonlinear systems.\n",
    "\n",
    "The library of choice for LTI systems is control and especially the control.matlab library, which provides a very convenient interface."
   ]
  },
  {
   "cell_type": "code",
   "execution_count": null,
   "metadata": {},
   "outputs": [],
   "source": [
    "from numpy import *             # Grab all of the NumPy functions\n",
    "from matplotlib.pyplot import * # Grab MATLAB plotting functions\n",
    "from control.matlab import *    # MATLAB-like functions\n",
    "from control import step_response, forced_response, root_locus, phase_crossover_frequencies, margin, feedback, series\n",
    "%matplotlib inline"
   ]
  },
  {
   "cell_type": "markdown",
   "metadata": {},
   "source": [
    "### Introduction\n",
    "\n",
    "The Python control library is quite similar to the equivalent Matlab library, which may be common to some of you. The basis forms the definition of a system, which may be defined in either\n",
    "\n",
    "- Transfer function $G(s) = \\frac{N(s)}{D(s)}$ or $G(z) = \\frac{N(z)}{D(z)}$\n",
    "- Statespace system $$\\dot{x} = \\mathbf{A}x + \\mathbf{B}u$$ $$y = \\mathbf{C}x+Du$$ for matrices $\\mathbf{A}, \\mathbf{B}, \\mathbf{C}$, scalar $D$, state $x$, input $u$, output $y$ or its equivalent discrete time formulation.\n",
    "\n",
    "We start be defining a system $$\\ddot{y} + y = u$$ referring to an undamped pendulum which is given by the transfer function $G(s) = \\frac{N(s)}{D(s)} = \\frac{1}{s^2+1}$. The numerator and denominator polynomials are defined by their coefficients only, so $N(s)$ relates to the the array ```[1]```, while $D(s)$ relates to ```[1, 0, 1]```."
   ]
  },
  {
   "cell_type": "code",
   "execution_count": null,
   "metadata": {},
   "outputs": [],
   "source": [
    "# Create system by calling tf\n",
    "sys = tf([1], [1,0,1])\n",
    "# Print the system\n",
    "print(sys)\n",
    "# Create time axis for simulation\n",
    "Tin = linspace(0,20,100)\n",
    "# Subject system to a step response to 1\n",
    "T, yout = step_response(sys, Tin)\n",
    "# Plot result\n",
    "plot(T,yout)\n",
    "xlabel('t/s')\n",
    "ylabel('y')"
   ]
  },
  {
   "cell_type": "markdown",
   "metadata": {},
   "source": [
    "As expected, the system exhibits a sustained oscillation due to the absence of damping."
   ]
  },
  {
   "cell_type": "markdown",
   "metadata": {},
   "source": [
    "## Exercise\n",
    "\n",
    "- Add damping terms $b = 1,2,3$ to the system, yielding the transfer function $G(s) = \\frac{N(s)}{D(s)} = \\frac{1}{s^2+b+1}$. Plot the step responses.\n",
    "- Define an array $u = \\sin(\\omega t_{in})$ for a linear time axis $t_{in}$. Use ```T, yout, x = forced_response(sys, Tin, u)```to simulate the system subjected to a $\\sin$-Input for $\\omega \\in \\{0.9, 1.0, 1.1\\}$ and plot the results.\n",
    "\n",
    "Using the ```label``` keyword in plot, you can recursively add a label to your plot and by using a loop, the plot can look like this:\n",
    "![Resonancy plot](figures/Resonancy.png)"
   ]
  },
  {
   "cell_type": "code",
   "execution_count": null,
   "metadata": {},
   "outputs": [],
   "source": []
  },
  {
   "cell_type": "markdown",
   "metadata": {},
   "source": [
    "## More realistic model\n",
    "\n",
    "In the sequel, we consider a mass-spring-damper-system (MSD-system) governed by the differential equation\n",
    "\\begin{equation}\n",
    "\\ddot{y}(t) + \\frac{d}{m}\\dot{y}(t) + \\frac{c}{m}y(t) = \\frac{1}{m}u(t)\n",
    "\\end{equation}\n",
    "or, in state-space form,\n",
    "\\begin{equation}\n",
    "\\mathbf{A} = \\begin{bmatrix}%{ccccc}\n",
    "             0 & 1\\\\\n",
    "            -a_{0} & -a_{1}   \n",
    "            \\end{bmatrix}\n",
    "            = \\begin{bmatrix}%{ccccc}\n",
    "             0 & 1\\\\\n",
    "            -\\frac{c}{m} & -\\frac{d}{m}   \n",
    "            \\end{bmatrix},\n",
    "\\end{equation}\n",
    "\n",
    "\\begin{equation}\n",
    "\\mathbf{B} = \\begin{bmatrix} 0 \\\\ 1\\end{bmatrix} \n",
    "\\end{equation}\n",
    "\n",
    "\\begin{equation}\n",
    "\\mathbf{C} = \\begin{bmatrix} \\frac{1}{m} & 0\\end{bmatrix}\n",
    "\\end{equation}\n",
    "\n",
    "\\begin{equation*}\n",
    "D = 0\n",
    "\\end{equation*}\n",
    "\n",
    "The parameters are:\n",
    "\n",
    "- Mass $m$\n",
    "- Spring constant $c$\n",
    "- Damper constant $b$\n",
    "\n",
    "Such a system can be defined parametrically, so we can quickly re-run the simulation for different systems."
   ]
  },
  {
   "cell_type": "code",
   "execution_count": null,
   "metadata": {},
   "outputs": [],
   "source": [
    "# Parameter definition\n",
    "m = 10\n",
    "c = 5\n",
    "d = 1\n",
    "# State space arrays\n",
    "A = array([[0,1],[-c/m, -d/m]])\n",
    "B = array([[0],[1]])\n",
    "C = array([1/m, 0])\n",
    "sys = StateSpace(A, B, C, 0)"
   ]
  },
  {
   "cell_type": "markdown",
   "metadata": {},
   "source": [
    "## System behaviour\n",
    "\n",
    "Investigate system behaviour by help of a step response."
   ]
  },
  {
   "cell_type": "code",
   "execution_count": null,
   "metadata": {},
   "outputs": [],
   "source": [
    "Tin = linspace(0,60, 1000)\n",
    "T, yout = step_response(sys, Tin)\n",
    "plot(T,yout)\n",
    "xlabel('t/s')\n",
    "ylabel('y')"
   ]
  },
  {
   "cell_type": "markdown",
   "metadata": {},
   "source": [
    "### System analysis\n",
    "\n",
    "For a linear system, we can investigate the system behaviour well by inspecting\n",
    "\n",
    "- DC gain, i.e. what is the system amplification after settling of any overshoots\n",
    "- Poles and Zeros, i.e. is the system stable (all poles on the left hand side of the complex plane) and does it oscillate (complex conjugate pairs of poles)\n",
    "- Helpful combination (termed sisotool) to determine behaviour and stability consisting of\n",
    "\n",
    "    - Bode plot\n",
    "    - Root-locus plot (mostly for closed loop systems)\n",
    "    - Step responce\n",
    "    "
   ]
  },
  {
   "cell_type": "code",
   "execution_count": null,
   "metadata": {},
   "outputs": [],
   "source": [
    "# Print out DC gain\n",
    "print('DC gain: ' +str(dcgain(sys)))\n",
    "# Open a new figure\n",
    "figure()\n",
    "# Plot pole zero map\n",
    "pzmap(sys)\n",
    "# Open a new figure\n",
    "figure()\n",
    "# Plot combination figure\n",
    "sisotool(sys)"
   ]
  },
  {
   "cell_type": "markdown",
   "metadata": {},
   "source": [
    "### Exercise\n",
    "\n",
    "Define two alternative MSD-systems with\n",
    "\n",
    "1. Both poles on the imaginary axis (marginally stable) \n",
    "2. Both poles on the real axis (left half obviously)\n",
    "\n",
    "and plot the pole-zero maps of each."
   ]
  },
  {
   "cell_type": "code",
   "execution_count": null,
   "metadata": {},
   "outputs": [],
   "source": []
  },
  {
   "cell_type": "markdown",
   "metadata": {},
   "source": [
    "### Desired closed-loop behaviour\n",
    "\n",
    "With a pair of poles at $\\lambda_{1/2} = a\\pm b j$ a quick settling time can be achieved."
   ]
  },
  {
   "cell_type": "code",
   "execution_count": null,
   "metadata": {},
   "outputs": [],
   "source": [
    "a = -5\n",
    "b = 0.1\n",
    "ssg = (a**2+b**2)/c\n",
    "Ad = array([[0,1],[-1*(a**2+b**2), -1*(-2*a)]])\n",
    "Bd = array([[0],[1]])\n",
    "Cd = array([ssg, 0])\n",
    "sysd = StateSpace(Ad, Bd, Cd, 0)"
   ]
  },
  {
   "cell_type": "code",
   "execution_count": null,
   "metadata": {},
   "outputs": [],
   "source": [
    "youtd, T = step(sysd, Tin)\n",
    "plot(T,youtd, label = 'Desired')\n",
    "plot(T, yout, label = 'Actual')\n",
    "legend()\n",
    "xlabel('t/s')\n",
    "ylabel('y')\n",
    "#savefig('plots/DesiredvsActual.png', dpi = 600)"
   ]
  },
  {
   "cell_type": "markdown",
   "metadata": {},
   "source": [
    "## State feedback\n",
    "\n",
    "Here we introduce full state feedback according to\n",
    "\\begin{equation*}\n",
    "\\mathbf{F} = \\begin{bmatrix} \\left(a^2+b^2 - \\frac{c}{m}\\right) & \\left(-2a - \\frac{b}{m}\\right)\\end{bmatrix}\n",
    "\\end{equation*}\n",
    "and simulate a step response."
   ]
  },
  {
   "cell_type": "code",
   "execution_count": null,
   "metadata": {},
   "outputs": [],
   "source": [
    "F = array([a**2+b**2-c/m, -2*a-d/m])\n",
    "Acl = A-B*F\n",
    "Bcl = array([[0],[1]])\n",
    "Ccl = array([ssg, 0])\n",
    "syscl = StateSpace(Acl, Bcl, Ccl,0)\n",
    "youtcl, T = step(syscl, Tin)\n",
    "plot(T,youtd, label = 'Desired', alpha = 0.7)\n",
    "plot(T, yout, label = 'Actual', alpha = 0.7)\n",
    "plot(T, youtcl, label = 'Closed Loop')\n",
    "legend()\n",
    "xlabel('t/s')\n",
    "ylabel('y')\n",
    "#savefig('plots/DesiredvsActualvsClosedLoop.png', dpi = 600)"
   ]
  },
  {
   "cell_type": "markdown",
   "metadata": {},
   "source": [
    "## Exercise\n",
    "\n",
    "State feedback assumes perfect knowledge of the plant parameters. Manipulate the parameters (A, B, C) of the system unknown to the controller, check and document the results."
   ]
  },
  {
   "cell_type": "code",
   "execution_count": null,
   "metadata": {},
   "outputs": [],
   "source": []
  },
  {
   "cell_type": "markdown",
   "metadata": {},
   "source": [
    "## Interconnections and Feedback\n",
    "\n",
    "It is possible to assemble dynamical systems from blocks of subsystems by interconnection in the direction of signal flow as well as feedback.\n",
    "\n",
    "### Series interconnection\n",
    "\n",
    "We will initially couple two first order systems:\n",
    "\n",
    "- $G_1(s) = \\frac{1}{s+1}$\n",
    "- $G_2(s) = \\frac{1}{s+2}$\n",
    "\n",
    "![System interconnection](figures/Interconnection.png)\n",
    "\n",
    "The resulting System, $G(s) = G_1(s) G_2(s)$, is then subjected to a step response and compared to the individual subsystems. In the resulting plot, we clearly see the second order nature of the interconnected response."
   ]
  },
  {
   "cell_type": "code",
   "execution_count": null,
   "metadata": {},
   "outputs": [],
   "source": [
    "# Create both system\n",
    "sys1 = tf([1],[1, 1])\n",
    "sys2 = tf([1],[1, 2])\n",
    "\n",
    "# Series interconnection\n",
    "sys = series(sys1, sys2)\n",
    "# Step response simulation\n",
    "T, yout = step_response(sys)\n",
    "T1, yout1 = step_response(sys1)\n",
    "T2, yout2 = step_response(sys2)\n",
    "# Plotting\n",
    "plot(T, yout, label = 'G(s)')\n",
    "plot(T1, yout1, label = 'G_1(s)')\n",
    "plot(T2, yout2, label = 'G_2(s)')\n",
    "legend()\n",
    "xlabel('t/s')\n",
    "ylabel('y')"
   ]
  },
  {
   "cell_type": "markdown",
   "metadata": {},
   "source": [
    "### Feedback interconnection\n",
    "\n",
    "For the feedback interconnection, we will add a feedback compensator to the heavily overshooting plant\n",
    "$$G_1(s) = \\frac{20}{s^2+2s+20}$$\n",
    "according to the transfer function\n",
    "$$G_{comp} = K s.$$"
   ]
  },
  {
   "cell_type": "code",
   "execution_count": null,
   "metadata": {},
   "outputs": [],
   "source": [
    "# Generate both systems\n",
    "sys1 = tf([20],[1, 2, 20])\n",
    "# Parametric gain\n",
    "K = .35\n",
    "comp = tf([K, 0], [1])\n",
    "\n",
    "##########################\n",
    "# Feedback interconnection\n",
    "sys = feedback(sys1, comp)\n",
    "\n",
    "###########################\n",
    "# Print the overall system\n",
    "print('G(s) = ' + str(sys))\n",
    "# Print poles of closed loop system\n",
    "print('Poles of closed loop system: ' + str(pole(sys)))\n",
    "\n",
    "###########################\n",
    "# Plotting\n",
    "T, yout = step_response(sys,Tin)\n",
    "T1, yout1 = step_response(sys1, Tin)\n",
    "plot(T, yout, label = 'G(s)')\n",
    "plot(T1, yout1, label = 'G_1(s)')\n",
    "legend()\n",
    "grid()\n",
    "xlabel('t/s')\n",
    "ylabel('y')"
   ]
  },
  {
   "cell_type": "markdown",
   "metadata": {},
   "source": [
    "## DC Motor example\n",
    "\n",
    "A linear model of a DC motor consists of a mechanical part and the electrical part.\n",
    "\n",
    "The mechanical part is a rotating mass, so exhibiting inertia $J$ as well as some damping $B$.\n",
    "\n",
    "The electrical subsystem consists of the armature resistance $R_a$, the armature inductance $L_a$. A loop according to Kirchhoff's Law also reveals a back-EMF voltage $U_b$.\n",
    "\n",
    "![](figures/DCMotor.png)\n",
    "\n",
    "This back-EMF is linked to the rotational velocity $\\omega$ according to $$U_b = K_b \\omega$$ while the generated torque is depending on the current in the armature $I_a$ according to\n",
    "$$T = K_T I_a.$$\n",
    "\n",
    "The input voltage $U_a$ drives the armature current according to\n",
    "$$U_a = L_a \\frac{dI_a}{dt} + R_a I_a + U_b,$$ after a Laplace Transform yielding the transfer function\n",
    "$$\\frac{I_a}{U_a - U_b} = \\frac{1}{L_a s+R_a}$$\n",
    "for the electrical subsystem. Note the transfer of $$U_a - U_b \\rightarrow I_a,$$ indicating a feedback from the output velocity.\n",
    "\n",
    "The mechanical subsystem is an inertial, damped system, governed by the transfer function\n",
    "$$\\frac{\\omega}{T_m} = \\frac{1}{Js+B}$$.\n",
    "\n",
    "The back-EMF is proportional to $\\omega$ according to $$Ub = K_b \\omega.$$\n",
    "\n",
    "The overall block diagram is shown below:\n",
    "\n",
    "![](figures/DCMotorBlock.png)"
   ]
  },
  {
   "cell_type": "markdown",
   "metadata": {},
   "source": [
    "## Exercise\n",
    "\n",
    "Implement a DC motor model and simulate the step response as well as a forced response to a sinewave.\n",
    "\n",
    "1. Define the system parameters:\n",
    "    - $R_a = 5$\n",
    "    - $L_a = 0.1$\n",
    "    - $K_T = 10$\n",
    "    - $J = 1$\n",
    "    - $B = 0.001$\n",
    "    - $K_b = 1$\n",
    "1. Model the subsystems:\n",
    "    1. Electrical subsystem\n",
    "    1. Torque constant $K_T$ as a transfer function ```tf([KT],[1])```\n",
    "    1. Mechanical subsystem\n",
    "    1. Back-EMF constant as $K_T$\n",
    "1. Interconnect according to the block diagram above\n",
    "    1. Start with forward path\n",
    "    1. Add feedback\n",
    "1. Simulate and plot\n",
    "    1. subject the system to a unit step\n",
    "    1. Subject the system to a 12V-sine voltage with $2\\pi$ frequency. Use the code snippets\n",
    "~~~.py\n",
    "figure(figsize=(10,6))\n",
    "subplot(3,1,(1,2))\n",
    "~~~\n",
    "and \n",
    "~~~.py\n",
    "figure(figsize=(10,6))\n",
    "subplot(3,1,3)\n",
    "~~~\n",
    "to replicate this figure:\n",
    "![DCMotor Results](figures/DCMotorSim.png)"
   ]
  },
  {
   "cell_type": "code",
   "execution_count": null,
   "metadata": {},
   "outputs": [],
   "source": []
  },
  {
   "cell_type": "markdown",
   "metadata": {},
   "source": [
    "## Nonlinear systems\n",
    "\n",
    "As a nonlinear system example, we consider the mathematical pendulum as depicted below:\n",
    "\n",
    "![Pendulum](figures/Pendulum.png)\n",
    "\n",
    "This system is governed by the differential equation $$\\ddot{\\varphi} + \\frac{g}{l}\\sin(\\varphi) = 0$$\n",
    "\n",
    "While linear systems are somewhat easier to handle, we need to explicitly define the function to transfer the states. Also we need to import and utilise an ODE solver, which is contained in the scipy.integrate library."
   ]
  },
  {
   "cell_type": "code",
   "execution_count": null,
   "metadata": {},
   "outputs": [],
   "source": [
    "from scipy import integrate"
   ]
  },
  {
   "cell_type": "markdown",
   "metadata": {},
   "source": [
    "Next, we need to define the nonlinear differential equation in terms of a first order differential equation, i.e. mapping a state vector $x$ to its derivative $\\dot{x} = f(x)$. Since time dependence can be implemented, it needs to accept both time and state.\n",
    "\n",
    "The state space representation of the above ODE is\n",
    "\n",
    "$$\\dot{x} = \\begin{pmatrix} \\dot{x}_1 \\\\ \\dot{x}_2 \\end{pmatrix}  = \\begin{pmatrix} \\dot{x}_2 \\\\ \\frac{-g}{l}\\sin\\left(x_2\\right) \\end{pmatrix}.$$\n",
    "\n",
    "This is implemented below:"
   ]
  },
  {
   "cell_type": "code",
   "execution_count": null,
   "metadata": {},
   "outputs": [],
   "source": [
    "## Nonlinear state space function\n",
    "def f(x,t=0):\n",
    "    # Parameters\n",
    "    g = 9.81\n",
    "    l = 10\n",
    "    # Return state differential\n",
    "    return [x[1], -g/l*np.sin(x[0])]"
   ]
  },
  {
   "cell_type": "markdown",
   "metadata": {},
   "source": [
    "### Phase portrait\n",
    "\n",
    "A good way to think about nonlinear systems is to consider their phase portrait, i.e. a directional field to observer their evolution from an arbitrary starting point.\n",
    "\n",
    "For this purpose, we use ```meshgrid``` to generate linear increasing matrices over a given value range."
   ]
  },
  {
   "cell_type": "code",
   "execution_count": null,
   "metadata": {},
   "outputs": [],
   "source": [
    "# Create figure and axis objects\n",
    "fig = figure(num=1, figsize = (12,5))\n",
    "ax=fig.add_subplot(111)\n",
    "# Create two matrices\n",
    "X1,X2 = np.meshgrid(np.linspace(-2*np.pi,2*np.pi,40),np.linspace(-np.pi/2,np.pi/2,10))\n",
    "# Calculate differentials\n",
    "DX1, DX2 = f([X1,X2])\n",
    "# Plot as a vector field\n",
    "ax.quiver(X1,X2,DX1,DX2)\n",
    "# Label axes\n",
    "xlabel(\"$x_1$\")\n",
    "ylabel(\"$x_2$\")"
   ]
  },
  {
   "cell_type": "markdown",
   "metadata": {},
   "source": [
    "In the phase portrait, we clearly see the points of stability for $(k\\pi,0)^T,\\, k = 0, 1,\\ldots$, with even $k$ indicating the lower point of stability.\n",
    "\n",
    "It is time to plot some trajectories. To achieve this, we solve the ODE using ```integrate.odeint``` with options:\n",
    "\n",
    "- f, the name of the function\n",
    "- x0, the initial state\n",
    "- t, a time vector defined beforehand\n",
    "\n",
    "The return value is an array of the state evolution, which can be plotted after transposing. In order to evaluate the different initial conditions, we loop through these."
   ]
  },
  {
   "cell_type": "code",
   "execution_count": null,
   "metadata": {},
   "outputs": [],
   "source": [
    "fig = figure(num=1, figsize = (12,5))\n",
    "ax=fig.add_subplot(111)\n",
    "# Time axis for solution (with fine resolution)\n",
    "t = np.linspace(0,50,1000)\n",
    "# Array of initial conditions\n",
    "X0 = [np.array([1,0]), np.array([-10,1]), np.array([3.2,0]), np.array([3.1,0])]\n",
    "\n",
    "# Plot phase portrait as above\n",
    "X1,X2 = np.meshgrid(np.linspace(-4*np.pi,4*np.pi,40),np.linspace(-np.pi/2,np.pi/2,10))\n",
    "DX1, DX2 = f([X1,X2])\n",
    "ax.quiver(X1,X2,DX1,DX2)\n",
    "for x0 in X0:\n",
    "    # Call ODE solver\n",
    "    P = integrate.odeint(f, x0, t).T\n",
    "    # Plot the resulting curve and add label\n",
    "    ax.plot(P[0],P[1], label = '$x_0$='+str(x0))\n",
    "# Limit x-axis - Some solutions evolve too far.\n",
    "xlim([-4*np.pi, 4*np.pi])\n",
    "xlabel(\"$x_1$\")\n",
    "ylabel(\"$x_2$\")\n",
    "# Show initial condition labels\n",
    "legend()"
   ]
  },
  {
   "cell_type": "markdown",
   "metadata": {},
   "source": [
    "## Exercise\n",
    "\n",
    "Extend the nonlinear system example above to include friction, the updated state space formulation shall be\n",
    "\n",
    "$$\\dot{x} = \\begin{pmatrix} \\dot{x}_1 \\\\ \\dot{x}_2 \\end{pmatrix}  = \\begin{pmatrix} \\dot{x}_2  \\\\ \\frac{-g}{l}\\sin\\left(x_2\\right) - \\mu x_1 \\end{pmatrix}.$$\n",
    "\n",
    "Select $\\mu = 0.1$ as a friction coefficient and plot the according trajectories."
   ]
  },
  {
   "cell_type": "code",
   "execution_count": null,
   "metadata": {},
   "outputs": [],
   "source": []
  }
 ],
 "metadata": {
  "kernelspec": {
   "display_name": "Python 3",
   "language": "python",
   "name": "python3"
  },
  "language_info": {
   "codemirror_mode": {
    "name": "ipython",
    "version": 3
   },
   "file_extension": ".py",
   "mimetype": "text/x-python",
   "name": "python",
   "nbconvert_exporter": "python",
   "pygments_lexer": "ipython3",
   "version": "3.9.1"
  }
 },
 "nbformat": 4,
 "nbformat_minor": 4
}
