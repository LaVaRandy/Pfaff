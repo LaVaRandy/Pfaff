{
 "cells": [
  {
   "cell_type": "markdown",
   "metadata": {},
   "source": [
    "# Monte Carlo Simulation\n",
    "\n",
    "Monte Carlo Simulations (MC-Simulations) rely on repeated random sampling to obtain numerical results. While they have interesting physical and mathematical applications, e.g. finite integrals, they also allow to simulate uncertainties in input. This is very useful when it comes to analysing\n",
    "\n",
    "- Quality Management problems,\n",
    "- Design robustness or\n",
    "- System risk.\n",
    "\n",
    "To implement MC-Simulations, we need computational power as well as well proven random number generators, this is where numpy comes in handy. \n",
    "\n",
    "We start with the imports."
   ]
  },
  {
   "cell_type": "code",
   "execution_count": null,
   "metadata": {},
   "outputs": [],
   "source": [
    "# Numpy for higher level mathematics\n",
    "import numpy as np\n",
    "# Matplotlib and the pyplot module for a Matlab-like plot syntax\n",
    "import matplotlib\n",
    "# This is the syntax to import as a named module\n",
    "import matplotlib.pyplot as plt\n",
    "# Plot the graphs in the notebook\n",
    "%matplotlib inline"
   ]
  },
  {
   "cell_type": "markdown",
   "metadata": {},
   "source": [
    "The random number generators are contained in the ```np.random``` library, let's inspect some! To do this (and use the newly implemented PCG-64 random generator), we need to istante the random number generator first."
   ]
  },
  {
   "cell_type": "code",
   "execution_count": null,
   "metadata": {},
   "outputs": [],
   "source": [
    "# Random number generator\n",
    "rng = np.random.default_rng()"
   ]
  },
  {
   "cell_type": "markdown",
   "metadata": {},
   "source": [
    "### Continuous distributions\n",
    "\n",
    "The most frequently used distributions include:\n",
    "\n",
    "- Uniform distribution\n",
    "- Normal distribution\n",
    "- Gamma distribution -> Positive distribution\n",
    "- Exponential distribution -> Positive distribution"
   ]
  },
  {
   "cell_type": "code",
   "execution_count": null,
   "metadata": {},
   "outputs": [],
   "source": [
    "# Shape of the generated arrays\n",
    "sh = (10000,1)\n",
    "# Uniform distribution between low and high\n",
    "U = rng.uniform(low = 0, high = 1, size = sh)\n",
    "# Normal distribution with loc mean and scale standard deviation\n",
    "N = rng.normal(loc = 0, scale = 1, size = sh)\n",
    "# Gamma distribution with shape and scale\n",
    "G = rng.gamma(shape = 5, scale = 1, size = sh)\n",
    "# Exponential distribution with scale\n",
    "E = rng.exponential(scale = 1, size = sh)"
   ]
  },
  {
   "cell_type": "code",
   "execution_count": null,
   "metadata": {},
   "outputs": [],
   "source": [
    "# Plotting of the distributions, nbins bins per histogram, 2x2 subplots.\n",
    "nbins = 30\n",
    "plt.figure(figsize = (10,10))\n",
    "plt.subplot(221, title = 'Uniform')\n",
    "plt.hist(U, density = True, bins = nbins)\n",
    "plt.subplot(222, title = 'Normal')\n",
    "plt.hist(N, density = True, bins = nbins)\n",
    "plt.subplot(223, title = 'Gamma')\n",
    "plt.hist(G, density = True, bins = nbins)\n",
    "plt.subplot(224, title = 'Exponential')\n",
    "trash = plt.hist(E, density = True, bins = nbins)"
   ]
  },
  {
   "cell_type": "markdown",
   "metadata": {},
   "source": [
    "### Discrete distributions\n",
    "\n",
    "Notable discrete distributions include\n",
    "\n",
    "- Random Integers\n",
    "- Binomial\n",
    "- Poisson"
   ]
  },
  {
   "cell_type": "code",
   "execution_count": null,
   "metadata": {},
   "outputs": [],
   "source": [
    "# Random integers\n",
    "I = rng.integers(low = 0, high = 10, size = 10)\n",
    "# Binomially distribution\n",
    "B = rng.binomial(n = 100, p = 0.05, size = 10)\n",
    "# Poisson distribution\n",
    "P = rng.poisson(lam = 10, size = 10)\n",
    "# Explicit bincounting since histogram is not sensible\n",
    "Ic = np.bincount(I)\n",
    "Bc = np.bincount(B)\n",
    "Pc = np.bincount(P)\n",
    "# Plotting - connections to find markers better...\n",
    "plt.plot(Ic, marker = 'o', linewidth = 0.1, label = 'Integers')\n",
    "plt.plot(Bc, marker = '+', linewidth = 0.1, label = 'Binomial')\n",
    "plt.plot(Pc, marker = '*', linewidth = 0.1, label = 'Poisson')\n",
    "trash = plt.legend()"
   ]
  },
  {
   "cell_type": "markdown",
   "metadata": {},
   "source": [
    "### Choice and permutation\n",
    "\n",
    "Using choice, it is possible to randomly select instances from an array.\n",
    "Permutation returns a randomly reordered version of that array."
   ]
  },
  {
   "cell_type": "code",
   "execution_count": null,
   "metadata": {},
   "outputs": [],
   "source": [
    "# Array to chose and permutate from\n",
    "a = np.linspace(1,10,10)\n",
    "print('Original array: ' + str(a))\n",
    "# Choice\n",
    "print('Choice (3/10):  ' + str(rng.choice(a,3)))\n",
    "# Permutation\n",
    "print('Permutation:    ' + str(rng.permutation(a)))"
   ]
  },
  {
   "cell_type": "markdown",
   "metadata": {},
   "source": [
    "## Example MC-Simulation\n",
    "\n",
    "As outlined above, the central ideal in MC-Simulation is to repeat random processes sufficiently often to evaluate their random properties. \n",
    "\n",
    "One (simple) example where randomness comes into play is the fitting of hole and shaft in an engineering fit problem.\n",
    "\n",
    "\n",
    "\n",
    "The process of simulating this in MC terms follows these steps:\n",
    "\n",
    "1. Model the desired property as a function $f(x_1, x_2,...,x_n)$\n",
    "1. Find suitable distributions for the $x_i$\n",
    "1. Simulate to obtain $f$ and its probability distribution\n",
    "\n",
    "Assume we have a H7/k6 interference fit of nominal $20\\,\\mathrm{mm}$ diameter, which means\n",
    "\n",
    "- the hole is $h = 20^{+0.021}_{-0}\\,\\mathrm{mm}$ in diameter\n",
    "- the shaft is $s = 20^{+0.015}_{+0.002}\\,\\mathrm{mm}$ in diameter\n",
    "\n",
    "The function to determine the level of deformation required is $f(h,s) = h-s$, yielding negative values for clearance and positive values for interference.\n",
    "\n",
    "In the MC-Simulation, we can manufacture $N = 1000$ of these fitting virtually. Let's assume a nominal behaviour of the parts:"
   ]
  },
  {
   "cell_type": "code",
   "execution_count": null,
   "metadata": {
    "scrolled": true
   },
   "outputs": [],
   "source": [
    "N = 10000\n",
    "h = rng.uniform(low = 20, high = 20.021, size = N)\n",
    "s = rng.uniform(low = 20.002, high = 20.015, size = N)\n",
    "f = s-h\n",
    "plt.hist(f, bins = 30)\n",
    "print('Quorum of interference > 0.01 mm: ' + str(len(f[f>0.01])/N))"
   ]
  },
  {
   "cell_type": "markdown",
   "metadata": {},
   "source": [
    "The triangular distribution as the result can be calculated analytically, however what happens if one of the distribution tends to the larger side, e.g. following a gamma distribution? "
   ]
  },
  {
   "cell_type": "code",
   "execution_count": null,
   "metadata": {},
   "outputs": [],
   "source": [
    "h2 = 20.021-0.001*rng.gamma(2, size=N)\n",
    "f2 = s-h2\n",
    "plt.hist(f2, bins = 30)\n",
    "print('Quorum of clearance > 0.01 mm: ' + str(len(f2[f2<-0.01])/N))"
   ]
  },
  {
   "cell_type": "markdown",
   "metadata": {},
   "source": [
    "We clearly see that there is more interference fit and almost no clearance. One of the difficulties to use MC-Simulations is that in engineering, we frequently encounter limited intervals while the distributions employed to obtain the solutions mostly have an infinite support, i.e. there are non-zero propabilities assigned to values between $-\\infty$ and $\\infty.$ A potential work-around is either to limit the resulting distributions by filtering or to accept these extreme values at low probability."
   ]
  },
  {
   "cell_type": "markdown",
   "metadata": {},
   "source": [
    "## Exercise\n",
    "\n",
    "Simulate hole and shaft of nominal $d = 50\\,\\mathrm{mm}$ in a H7/u6 fitting.\n",
    "\n",
    "H7: $0/+0.03\\,\\mathrm{mm}$\n",
    "u6: $+0.087/+0.106\\,\\mathrm{mm}$\n",
    "\n",
    "Inspect both distributions assuming uniform distribution and simulate the assembly.\n",
    "\n",
    "- How likely is it to have more than $0.1\\,\\mathrm{mm}$ of interference?\n",
    "- Assume the shaft manufacturing is somewhat skewed and the shaft follows a tolerance of $$(50.087+0.001 F(2))\\,\\mathrm{mm},$$\n",
    "where $F(2)$ is exponentially distributed with shape parameter $\\lambda = 2$. How likely is it now to have more than $0.1\\,\\mathrm{mm}$ of interference?"
   ]
  },
  {
   "cell_type": "code",
   "execution_count": null,
   "metadata": {},
   "outputs": [],
   "source": []
  },
  {
   "cell_type": "markdown",
   "metadata": {},
   "source": [
    "# MC-Simulating the manufacturing process of spring packages\n",
    "\n",
    "In this example, we investigate the behaviour of spring packages, as e.g. used in spring parking brakes. They consist of a high number of individual springs, in the example under consideration we have 24 springs in total in 8 colinear packages.\n",
    "\n",
    "The requirement for such spring packages is to have the overall spring ratio within a certain range, however the individual springs vary considerable, with 20% variation being rather frequent.\n",
    "\n",
    "In the simulation, we assume that $c\\in \\left[3450, 3750 \\right]\\mathrm{kN}$ leads functional spring packages."
   ]
  },
  {
   "cell_type": "markdown",
   "metadata": {},
   "source": [
    "Simulate $N$ sets of springs, 3x8 each."
   ]
  },
  {
   "cell_type": "code",
   "execution_count": null,
   "metadata": {},
   "outputs": [],
   "source": [
    "# Fix random generator for repeatability\n",
    "rng = np.random.default_rng(42)\n",
    "# Number of simulations - Nx8 to obtain iid realisations\n",
    "N = int(1e6)\n",
    "S = (N,8)\n",
    "c1 = rng.uniform(low = 90, high = 110, size = S)\n",
    "c2 = rng.uniform(low = 135, high = 165, size = S)\n",
    "c3 = rng.uniform(low = 180, high = 220, size = S)"
   ]
  },
  {
   "cell_type": "markdown",
   "metadata": {},
   "source": [
    "Assemble spring packages, the overall spring ratio is the sum of the individual spring ratios."
   ]
  },
  {
   "cell_type": "code",
   "execution_count": null,
   "metadata": {},
   "outputs": [],
   "source": [
    "c = np.sum(c1, axis = 1)+np.sum(c2, axis = 1)+np.sum(c3, axis = 1)"
   ]
  },
  {
   "cell_type": "markdown",
   "metadata": {},
   "source": [
    "Analyse distribution by plotting the histogram."
   ]
  },
  {
   "cell_type": "code",
   "execution_count": null,
   "metadata": {},
   "outputs": [],
   "source": [
    "nbins = 30\n",
    "plt.hist(c, density = True, bins = nbins)\n",
    "plt.ylabel('Relative freqency')\n",
    "plt.xlabel('$c$/(kN/m)')"
   ]
  },
  {
   "cell_type": "markdown",
   "metadata": {},
   "source": [
    "## Determine distribution probabilities\n",
    "\n",
    "It is clearly to be seen that the resulting distribution is more narrow than the $\\pm20\\%$ of the individual springs, and resembles a normal distribution due to the central limit theorem."
   ]
  },
  {
   "cell_type": "code",
   "execution_count": null,
   "metadata": {},
   "outputs": [],
   "source": [
    "print('Mean value:          ' + str(np.round(np.mean(c))))\n",
    "print('Standard dev.:       ' + str(np.round(np.std(c))))\n",
    "print('99% of realisations: ' + str(np.round(np.mean(c) - 3*np.std(c))) \n",
    "      +' ... '+ str(np.round(np.mean(c) + 3*np.std(c))))"
   ]
  },
  {
   "cell_type": "markdown",
   "metadata": {},
   "source": [
    "This indicates that 99% of the realisations are within 3468 and 3732 kN/m, assuming a normal distribution."
   ]
  },
  {
   "cell_type": "markdown",
   "metadata": {},
   "source": [
    "## Exercise\n",
    "\n",
    "Repeat the spring package example, but assume the supplier of spring 3 delivers springs on the lower end of the tolerance range, uniformly distributed between $180\\frac{\\mathrm{kN}}{\\mathrm{mm}}$ and $190\\frac{\\mathrm{kN}}{\\mathrm{mm}}$. \n",
    "- How does the overall distribution vary? Analyse mean and as well as standard deviation. \n",
    "- How many realisations are below the minimum tolerance level?"
   ]
  },
  {
   "cell_type": "code",
   "execution_count": null,
   "metadata": {},
   "outputs": [],
   "source": []
  },
  {
   "cell_type": "markdown",
   "metadata": {},
   "source": [
    "## Exercise\n",
    "\n",
    "The brake system of a rail vehicle applies the brake using a pneumatic cylinder with $p_c \\in \\left[3.7, 3.9 \\right]\\, \\mathrm{bar}$, with a filling time $t_f = (4\\pm1)\\,\\mathrm{s}$. This cylinder force is then transferred via a brake rigging with efficiency $\\eta \\in \\left[0.81, 0.9 \\right]$ and transmission ratio $U=1.4$ to the brake blocks with $\\mu = 0.35\\pm0.05$ (normally distributed with 95% confidence).\n",
    "\n",
    "The vehicle has a total mass $m = 90\\mathrm{t}$ including rotating masses and eight of the brakes as described above are installed. \n",
    "\n",
    "To run a MC-Simulation of the braking distances, proceed as follows:\n",
    "\n",
    "1. Define the variables to be picked from appropriate distributions\n",
    "1. Select $N$, the number of repeated MC-Experiments\n",
    "1. Determine the braking force per wheel according to \n",
    "$$F_b = U \\frac{\\pi}{4} (0.254 \\mathrm{m})^2\\eta p (10^5) \\mu$$\n",
    "1. Determine the retardation of the vehicle according to\n",
    "$$a = \\frac{\\Sigma_{i=1}^8 F_{b,i}}{m}$$\n",
    "1. Calculate the braking distance from $v_0 = 33.3\\frac{\\mathrm{m}}{\\mathrm{s}} $ according to\n",
    "$$s_b = v_0 t_f + \\frac{v_0^2}{2a}$$\n",
    "\n",
    "Attention: the filling time is identical for all brake units in the vehicle, whereas the other parameters vary between individual brake stations.\n",
    "\n",
    "The resulting figure looks similar to the one below:\n",
    "![Braking distance](figures/BrakingDistance.png)"
   ]
  },
  {
   "cell_type": "code",
   "execution_count": null,
   "metadata": {},
   "outputs": [],
   "source": []
  }
 ],
 "metadata": {
  "kernelspec": {
   "display_name": "Python 3",
   "language": "python",
   "name": "python3"
  },
  "language_info": {
   "codemirror_mode": {
    "name": "ipython",
    "version": 3
   },
   "file_extension": ".py",
   "mimetype": "text/x-python",
   "name": "python",
   "nbconvert_exporter": "python",
   "pygments_lexer": "ipython3",
   "version": "3.9.1"
  }
 },
 "nbformat": 4,
 "nbformat_minor": 2
}
