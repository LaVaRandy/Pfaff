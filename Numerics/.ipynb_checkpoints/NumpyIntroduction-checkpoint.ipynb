{
 "cells": [
  {
   "cell_type": "markdown",
   "metadata": {},
   "source": [
    "# Numerical mathematics using Numpy\n",
    "\n",
    "## About Numpy\n",
    "\n",
    "Numpy is the numerical mathematics package for Python. Its main features are:\n",
    "\n",
    "- n-Dimensional arrays\n",
    "- Large collection of computing tools, e.g.\n",
    "    - Mathematical functions\n",
    "    - Random numbers\n",
    "    - Linear algebra routines\n",
    "    - Transformations (Fourier etc.)\n",
    "    - and much more\n",
    "- Interoperable, in particular distributed and GPU libraries\n",
    "- Performant thanks to well-optimised C libraries used\n",
    "- Easy to use high level syntax\n",
    "- Open Source\n",
    "\n",
    "Libraries that base on Numpy include:\n",
    "\n",
    "- OpenCV - Computer Vision\n",
    "- PyTorch - DeepLearning\n",
    "- Scikit-Learn - MachineLearning\n",
    "- Pandas - DataFrames and TimeSeries"
   ]
  },
  {
   "cell_type": "code",
   "execution_count": null,
   "metadata": {},
   "outputs": [],
   "source": [
    "# Import numpy\n",
    "import numpy as np\n",
    "# Import matplotlib.pyplot for plotting\n",
    "import matplotlib.pyplot as plt"
   ]
  },
  {
   "cell_type": "markdown",
   "metadata": {},
   "source": [
    "####  Create the first array"
   ]
  },
  {
   "cell_type": "code",
   "execution_count": null,
   "metadata": {},
   "outputs": [],
   "source": [
    "b = np.array([[1,2],[3,4]])\n",
    "b"
   ]
  },
  {
   "cell_type": "markdown",
   "metadata": {},
   "source": [
    "#### Data type can be chose explicitly"
   ]
  },
  {
   "cell_type": "code",
   "execution_count": null,
   "metadata": {},
   "outputs": [],
   "source": [
    "c = np.array([[1, 2], [3, 4]], dtype=complex)\n",
    "c"
   ]
  },
  {
   "cell_type": "markdown",
   "metadata": {},
   "source": [
    "### Exercise\n",
    "\n",
    "Create an array $$d = \\begin{pmatrix} \n",
    "0& 1& 2 \\\\ \n",
    "3 & 4 & 5 \\\\\n",
    "6 & 7 & 8 \\end{pmatrix}$$ with datatype ```double```."
   ]
  },
  {
   "cell_type": "code",
   "execution_count": null,
   "metadata": {},
   "outputs": [],
   "source": []
  },
  {
   "cell_type": "markdown",
   "metadata": {},
   "source": [
    "### Functions for array creation\n",
    "\n",
    "There are handy functions to create special arrays:\n",
    "\n",
    "- Arrays with all entries 0\n",
    "- Arrays with all entries 1\n",
    "- Square matrizes with 1 on the diagonal, 0 else\n",
    "- Randomly filled arrays\n",
    "- Linearly filled arrays ```linspace(start, end, n_steps)```"
   ]
  },
  {
   "cell_type": "code",
   "execution_count": null,
   "metadata": {},
   "outputs": [],
   "source": [
    "a = np.zeros((2,2))\n",
    "print(a)\n",
    "b = np.ones((2,2))\n",
    "print(b)\n",
    "c = np.eye((2))\n",
    "print(c)\n",
    "d = np.random.random((2,2))\n",
    "print(d)\n",
    "e = np.linspace(1,5,5)\n",
    "print(e)"
   ]
  },
  {
   "cell_type": "markdown",
   "metadata": {},
   "source": [
    "## Array indexing\n",
    "\n",
    "Similar to MATLAB, we can access individual entries by so called slices:\n",
    "\n",
    "- Row and column numbers start with 0\n",
    "- Ranges can be addressed by ```[row_start:row_end+1, column_start:column_end+1]```"
   ]
  },
  {
   "cell_type": "code",
   "execution_count": null,
   "metadata": {},
   "outputs": [],
   "source": [
    "a = np.array([[1,2,3,4], [5,6,7,8], [9,10,11,12]])\n",
    "print(a)\n",
    "b = a[0:2, 1:3]\n",
    "print(b)"
   ]
  },
  {
   "cell_type": "markdown",
   "metadata": {},
   "source": [
    "Also writing to slices is possible:"
   ]
  },
  {
   "cell_type": "code",
   "execution_count": null,
   "metadata": {},
   "outputs": [],
   "source": [
    "a[2,3] = 11111\n",
    "print(a)"
   ]
  },
  {
   "cell_type": "markdown",
   "metadata": {},
   "source": [
    "### Array math\n",
    "\n",
    "There are numerous math functions implemented for arrays:\n",
    "\n",
    "- Addition\n",
    "- Subtraction\n",
    "- Elementwise multiplication\n",
    "- Elementwise division\n",
    "- Scalar multiplication\n",
    "- Add a scalar to all elements\n",
    "- Elementwise square root\n",
    "- Elementwise power"
   ]
  },
  {
   "cell_type": "code",
   "execution_count": null,
   "metadata": {},
   "outputs": [],
   "source": [
    "a = np.array([[1,2],[3,4]], dtype=np.float64)\n",
    "b = np.array([[5,6],[7,8]], dtype=np.float64)\n",
    "alpha = 11\n",
    "\n",
    "print(np.add(a,b))\n",
    "print(np.subtract(a,b))\n",
    "print(np.multiply(a,b))\n",
    "print(np.divide(a,b))\n",
    "print(alpha*a)\n",
    "print(alpha+a)\n",
    "print(np.sqrt(a))\n",
    "print(np.power(a,2))"
   ]
  },
  {
   "cell_type": "markdown",
   "metadata": {},
   "source": [
    "## Exercise\n",
    "\n",
    "Use math and array functions to create a list of squares from 1 to 10. Do not use loops."
   ]
  },
  {
   "cell_type": "code",
   "execution_count": null,
   "metadata": {},
   "outputs": [],
   "source": []
  },
  {
   "cell_type": "markdown",
   "metadata": {},
   "source": [
    "## Matrix and vector multiplication\n",
    "\n",
    "As opposed to MATLAB, the ```.dot()``` method implements vector and matrix multiplication."
   ]
  },
  {
   "cell_type": "code",
   "execution_count": null,
   "metadata": {},
   "outputs": [],
   "source": [
    "a = np.array([[1,2],[3,4]])\n",
    "b = np.array([[5,6],[7,8]])\n",
    "\n",
    "u = np.array([9,10])\n",
    "v = np.array([11, 12])\n",
    "\n",
    "print(np.dot(u, v))\n",
    "\n",
    "print(np.dot(a, u))\n",
    "\n",
    "print(np.dot(a, b))"
   ]
  },
  {
   "cell_type": "markdown",
   "metadata": {},
   "source": [
    "### Important further functions\n",
    "\n",
    "Some more inbuilt functions come handy when implementing software:\n",
    "\n",
    "- The ```sum```function\n",
    "- Matrix transpose\n",
    "- String representations\n",
    "- the ```.shape```-method"
   ]
  },
  {
   "cell_type": "code",
   "execution_count": null,
   "metadata": {},
   "outputs": [],
   "source": [
    "x = np.array([[1,2],[3,4]])\n",
    "\n",
    "\n",
    "## Example of sum applications\n",
    "# Sum of all elements\n",
    "print(np.sum(x))\n",
    "# Column-wise sum\n",
    "print(np.sum(x, axis=0))\n",
    "# Row-wise sum\n",
    "print(np.sum(x, axis=1))\n",
    "\n",
    "## Matrix transpose\n",
    "print(x)\n",
    "print(x.T)\n",
    "\n",
    "## String representation\n",
    "print('x = ' + str(x))"
   ]
  },
  {
   "cell_type": "markdown",
   "metadata": {},
   "source": [
    "## Exercise\n",
    "\n",
    "For a random 2x2-matrix A, determine its characteristic polynomial $$\\chi_A = \\det\\left(\n",
    "\\begin{pmatrix} t &0\\\\0&t \\end{pmatrix} - A\n",
    "\\right) \\\\ \n",
    "=  (t-A_{11})(t-A_{22}) - A_{12}A_{21}\n",
    "\\\\ = t^2 - (A_{11}+A_{22})t+A_{11}A_{22}- A_{12}A_{21}$$ and show that it fulfills the Cayley-Hamilton theorem, i.e. $\\chi_A(A) = 0$.\n",
    "\n",
    "1. Generate random matrix A\n",
    "1. Print the characteristic polynomial\n",
    "1. Calculate and print the value of $\\chi_A(A)$"
   ]
  },
  {
   "cell_type": "code",
   "execution_count": null,
   "metadata": {},
   "outputs": [],
   "source": []
  },
  {
   "cell_type": "markdown",
   "metadata": {},
   "source": [
    "## Broadcasting\n",
    "\n",
    "The concept of broadcasting allows us to perform manipulations on arrays on compatible dimensions according to these rules:\n",
    "\n",
    "- Both dimensions are equal\n",
    "- One of them is 1\n",
    "\n",
    "Numpy starts with the trailing dimension (i.e. the rightmost):"
   ]
  },
  {
   "cell_type": "code",
   "execution_count": null,
   "metadata": {},
   "outputs": [],
   "source": [
    "A = np.random.rand(4,2,1)\n",
    "B = np.random.rand(2,3)\n",
    "print('A: ' + str(A.shape)+ ' \\n ' + str(A))\n",
    "print('B: ' + str(B.shape)+ ' \\n ' + str(B))\n",
    "print('A*B: ' + str((A*B).shape)+ ' \\n ' + str(A*B))"
   ]
  },
  {
   "cell_type": "markdown",
   "metadata": {},
   "source": [
    "## Exercise\n",
    "\n",
    "Use broadcasting and in-built array types to generate a 10x10-matrix with each column $(1,2,...,10)$."
   ]
  },
  {
   "cell_type": "code",
   "execution_count": null,
   "metadata": {},
   "outputs": [],
   "source": []
  },
  {
   "cell_type": "markdown",
   "metadata": {},
   "source": [
    "## Plotting with Matplotlib\n",
    "\n",
    "While some results can be inspected using the plot functions, most of the times we need to plot our results.\n",
    "\n",
    "For this purpose, matplotlib is a good starting point and very scalable.\n",
    "\n",
    "For our first plot, we generate a sinus curve:"
   ]
  },
  {
   "cell_type": "code",
   "execution_count": null,
   "metadata": {
    "scrolled": true
   },
   "outputs": [],
   "source": [
    "t = np.linspace(0,2*np.pi, 100)\n",
    "y = np.sin(t)\n",
    "plt.plot(t,y)"
   ]
  },
  {
   "cell_type": "markdown",
   "metadata": {},
   "source": [
    "While this is a nice plot, we need to add some more context...\n",
    "\n",
    "- more curces\n",
    "- axis labels\n",
    "- title\n",
    "- legend\n",
    "\n",
    "Finally, we will save the plot in a file called 'SinCos.png':\n",
    "\n",
    "![The Plot](SinCos.png)"
   ]
  },
  {
   "cell_type": "code",
   "execution_count": null,
   "metadata": {},
   "outputs": [],
   "source": [
    "t = np.linspace(0,2*np.pi, 100)\n",
    "y = np.sin(t)\n",
    "y2 = np.cos(t)\n",
    "plt.plot(t,y)\n",
    "# A second curve can be simply plotted\n",
    "plt.plot(t,y2)\n",
    "# Add a string label\n",
    "plt.xlabel('t')\n",
    "plt.ylabel('y')\n",
    "# Add a title, latex is supported\n",
    "plt.title('$\\sin(t)$ and $\\cos(t)$-Functions')\n",
    "# The legend\n",
    "plt.legend(['$\\sin(t)$', '$\\cos(t)$'])\n",
    "plt.savefig('SinCos.png', dpi = 300)"
   ]
  },
  {
   "cell_type": "markdown",
   "metadata": {},
   "source": [
    "This is about as much as the MS Excel preconfiguration, but let's see:"
   ]
  },
  {
   "cell_type": "code",
   "execution_count": null,
   "metadata": {},
   "outputs": [],
   "source": [
    "# Generate 500 random samples with dimension 3\n",
    "A = np.random.randn(500,3)\n",
    "# Plot the frequency in 2 dimensions using hexgrid\n",
    "plt.hexbin(A[:,0], A[:,1], gridsize = 10, alpha = .7, cmap = 'Blues')\n",
    "# Scatter the instances above, colored according to the third value\n",
    "plt.scatter(A[:,0], A[:,1], c = A[:,2], alpha = 0.5, cmap = 'Reds')\n",
    "# Add a string label\n",
    "plt.xlabel('x')\n",
    "plt.ylabel('y')\n",
    "plt.colorbar()"
   ]
  },
  {
   "cell_type": "markdown",
   "metadata": {},
   "source": [
    "### 3D surface plot\n",
    "\n",
    "We generate a 3D surface plot of sinusoidal:"
   ]
  },
  {
   "cell_type": "code",
   "execution_count": null,
   "metadata": {},
   "outputs": [],
   "source": [
    "# Value field for plotting\n",
    "n = 100 # resolution\n",
    "t = np.linspace(0,2*np.pi, n) # linear array for sinusoidal\n",
    "a = np.ones((n,n)) # size of field\n",
    "X = a*t # varying rows\n",
    "Y = (a*t).T # varying columns\n",
    "Z = np.sin(x) + np.cos(y)\n",
    "# It is necessary to generate the figure explicitly \n",
    "# in order to choose 3D-projection\n",
    "# We can also choose the size to be slightly larger.\n",
    "fig, ax = plt.subplots(1, 1, figsize = (10,6),\n",
    "                       subplot_kw={\"projection\": \"3d\"})\n",
    "surf = ax.plot_surface(X, Y, Z, cmap='jet')\n",
    "fig.colorbar(surf, shrink = 0.5)"
   ]
  },
  {
   "cell_type": "markdown",
   "metadata": {},
   "source": [
    "## Exercise\n",
    "\n",
    "Try different plot types using the matplotlib doc (https://matplotlib.org/stable/index.html):\n",
    "    \n",
    "- Histogram using ```plt.hist```\n",
    "- Bar plot using ```plt.bar```\n",
    "- The above 3D sinusoidal using ```plt.imshow```\n",
    "- The above 3D sinusoidal with added white noise (e.g. ``` .05*np.random.randn(n,n)```) using ```plt.contour```, try the options:\n",
    "    - levels = 20\n",
    "- Try to replicate this figure using the above:\n",
    "\n",
    "![Example Contour](ExampleContour.png)\n",
    "\n",
    "Hint: look at ```extent```, ```alpha```, ```levels```, ```alpha```"
   ]
  },
  {
   "cell_type": "code",
   "execution_count": null,
   "metadata": {},
   "outputs": [],
   "source": []
  },
  {
   "cell_type": "markdown",
   "metadata": {},
   "source": [
    "## Control structures\n",
    "\n",
    "Based on arrays, we can implement conditional statements and loops:"
   ]
  },
  {
   "cell_type": "markdown",
   "metadata": {},
   "source": [
    "### Conditional statement"
   ]
  },
  {
   "cell_type": "code",
   "execution_count": null,
   "metadata": {},
   "outputs": [],
   "source": [
    "# Generate a linearly increasing vector [1, 2, 3, 4, 5]\n",
    "a = np.linspace(1,5,5)\n",
    "###########################\n",
    "# Compare whether any element is < 3:\n",
    "if np.any(a < 3):\n",
    "    # Print only elements which are < 3\n",
    "    print(a[a < 3])\n",
    "###########################\n",
    "# Check whether all elements are > 3 \n",
    "if np.all(a > 3):\n",
    "    # Print only elements which are > 3\n",
    "    # This statement is never reached\n",
    "    print(a[a > 3])"
   ]
  },
  {
   "cell_type": "code",
   "execution_count": null,
   "metadata": {},
   "outputs": [],
   "source": [
    "# Generate a linearly increasing vector [1, 2, 3, 4, 5]\n",
    "a = np.linspace(1,5,5)\n",
    "for x in a:\n",
    "    print(x)"
   ]
  },
  {
   "cell_type": "markdown",
   "metadata": {},
   "source": [
    "### More efficient control approaches\n",
    "\n",
    "Looping and conditionals are comparably slow, it is mostly more efficient to use direct numpy approaches. As shown above, we can index based on condition. This is possible due to the return value of a conditional statement on vectors, as it returns an array of boolean values."
   ]
  },
  {
   "cell_type": "code",
   "execution_count": null,
   "metadata": {},
   "outputs": [],
   "source": [
    "# Generate a linearly increasing vector [1, 2, 3, 4, 5]\n",
    "a = np.linspace(1,5,5)\n",
    "# Conditional on array\n",
    "print(a > 3)\n",
    "# More elaborate example, returns true only for 3\n",
    "print((a < 4) & (a > 2))\n",
    "# Can be used to access only these items in array\n",
    "# Here, only 3 and 4 are squared\n",
    "a[((a < 5) & (a > 2))] =  a[((a < 5) & (a > 2))]**2\n",
    "print(a)"
   ]
  },
  {
   "cell_type": "markdown",
   "metadata": {},
   "source": [
    "It is common practice to loop through arrays in order to influence the individual elements, this is also costly in terms of performance.\n",
    "\n",
    "An alternative is to use the numpy functions on the array directly."
   ]
  },
  {
   "cell_type": "code",
   "execution_count": null,
   "metadata": {},
   "outputs": [],
   "source": [
    "# Generate a linearly increasing vector [1, 2, 3, 4, 5]\n",
    "a = np.linspace(1,5,5)\n",
    "a = np.power(a, 2)\n",
    "print(a)"
   ]
  },
  {
   "cell_type": "markdown",
   "metadata": {},
   "source": [
    "## Exercise\n",
    "\n",
    "- Create a linearly increasing array $a$ from -5 to 5, the resolution may be selected appropriately. \n",
    "- Implement the following calculations:\n",
    "\n",
    "    - $b = \\| a\\|$, the absolute value (without using ```np.abs()```)\n",
    "    - $c = \\begin{cases} a^2, \\quad a<0 \\\\\n",
    "                      \\sqrt{a}, \\quad a \\geq 0\n",
    "                      \\end{cases} $\n",
    "\n",
    "- Plot both functions\n",
    "\n",
    "Hint: ```1.0*[True, False] = [1.0, 0.0]```"
   ]
  },
  {
   "cell_type": "code",
   "execution_count": null,
   "metadata": {},
   "outputs": [],
   "source": []
  }
 ],
 "metadata": {
  "kernelspec": {
   "display_name": "Python 3",
   "language": "python",
   "name": "python3"
  },
  "language_info": {
   "codemirror_mode": {
    "name": "ipython",
    "version": 3
   },
   "file_extension": ".py",
   "mimetype": "text/x-python",
   "name": "python",
   "nbconvert_exporter": "python",
   "pygments_lexer": "ipython3",
   "version": "3.8.3"
  }
 },
 "nbformat": 4,
 "nbformat_minor": 4
}
