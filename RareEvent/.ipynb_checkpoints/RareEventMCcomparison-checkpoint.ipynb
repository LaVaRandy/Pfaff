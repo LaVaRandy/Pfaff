{
 "cells": [
  {
   "cell_type": "code",
   "execution_count": 71,
   "metadata": {},
   "outputs": [],
   "source": [
    "import numpy as np\n",
    "import matplotlib.pyplot as plt\n",
    "import seaborn as sns\n",
    "%matplotlib inline"
   ]
  },
  {
   "cell_type": "code",
   "execution_count": 2,
   "metadata": {},
   "outputs": [],
   "source": [
    "np.random.seed(42)"
   ]
  },
  {
   "cell_type": "code",
   "execution_count": 4,
   "metadata": {},
   "outputs": [],
   "source": [
    "import time\n",
    "\n",
    "def TicTocGenerator():\n",
    "    # Generator that returns time differences\n",
    "    ti = 0           # initial time\n",
    "    tf = time.time() # final time\n",
    "    while True:\n",
    "        ti = tf\n",
    "        tf = time.time()\n",
    "        yield tf-ti # returns the time difference\n",
    "\n",
    "TicToc = TicTocGenerator() # create an instance of the TicTocGen generator\n",
    "\n",
    "# This will be the main function through which we define both tic() and toc()\n",
    "def toc(tempBool=True):\n",
    "    # Prints the time difference yielded by generator instance TicToc\n",
    "    tempTimeInterval = next(TicToc)\n",
    "    if tempBool:\n",
    "        print( \"Elapsed time: %f seconds.\\n\" %tempTimeInterval )\n",
    "\n",
    "def tic():\n",
    "    # Records a time in TicToc, marks the beginning of a time interval\n",
    "    toc(False)"
   ]
  },
  {
   "cell_type": "code",
   "execution_count": 101,
   "metadata": {},
   "outputs": [
    {
     "name": "stdout",
     "output_type": "stream",
     "text": [
      "Elapsed time: 2487.451967 seconds.\n",
      "\n",
      "Pad case\n",
      "Splitting:  5.1486e-06  +/-  9.08580233111e-07\n",
      "Standard:   4.83325083884e-06  +/-  6.467690456e-06\n",
      "Variance Reduction:  7.1184582498\n",
      "Offsprings:  108000.0\n"
     ]
    },
    {
     "data": {
      "text/plain": [
       "<matplotlib.legend.Legend at 0x1a1baabcf8>"
      ]
     },
     "execution_count": 101,
     "metadata": {},
     "output_type": "execute_result"
    },
    {
     "data": {
      "image/png": "[encoded data removed]",
      "text/plain": [
       "<matplotlib.figure.Figure at 0x1a1c9bb358>"
      ]
     },
     "metadata": {},
     "output_type": "display_data"
    }
   ],
   "source": [
    "N = 1000;\n",
    "M = 100; # Number of MC samples (Length of chain)\n",
    "L = 1e4; # Number of initial Simulations\n",
    "O = 1e3; # Number of Offsprings\n",
    "\n",
    "# Transition probability\n",
    "pT1 = 0.0001#13.1e-6;\n",
    "pT2 = 0.00001#0.82e-7;\n",
    "I = np.zeros(int(L))\n",
    "p2 = np.zeros(int(N))\n",
    "p3 = np.zeros(int(N))\n",
    "IC = np.zeros(int(O))\n",
    "pS = np.zeros(int(N))\n",
    "pN = np.zeros(int(N))\n",
    "tic()\n",
    "for k in range(0,N):\n",
    "    for i in range(0,int(L)):\n",
    "        Ii = np.flatnonzero(np.random.rand(N) < pT1)\n",
    "        I[i] = min(Ii.tolist(), default=M+1)\n",
    "    # Calculate intermediate probability\n",
    "    R2 = np.sum(1.0*(I < M+1));\n",
    "    p2[k] = R2/L;\n",
    "    \n",
    "    N3 = 0;\n",
    "    R3 = 0;\n",
    "    for i in range(0, int(L)):\n",
    "        if (I[i] < M+1):\n",
    "            for j in range(0, int(O)):\n",
    "                # Clone succesful trajectories\n",
    "                YC = np.flatnonzero(np.random.rand(1,int(M-I[i]+1)) < pT2)\n",
    "                # Check Offsprings for succesful trajectories\n",
    "                IC[j] = min(YC.tolist(), default=M+1);\n",
    "            R3 = R3 + sum(1.0*(IC < M+1));\n",
    "            N3 = N3 + O;\n",
    "    if (N3 > 0):\n",
    "        p3[k] = R3/N3;\n",
    "    else:\n",
    "        p3[k] = 0;\n",
    "    nS = 0\n",
    "    for m in range(0, int(L+N3)):\n",
    "        Ii = np.flatnonzero(np.random.rand(1,M) < pT1)\n",
    "        I1 = min(Ii.tolist(), default=M+1)\n",
    "        Ii = np.flatnonzero(np.random.rand(1,int(M-I1+1)) < pT2)\n",
    "        nS = nS + (min(Ii.tolist(), default=M+1) < M+1)\n",
    "    pS[k] = p2[k]*p3[k]\n",
    "    pN[k] = nS/(L+N3)\n",
    "\n",
    "toc()\n",
    "\n",
    "\n",
    "print(\"Splitting: \", np.mean(pS), \" +/- \", np.std(pS))\n",
    "print(\"Standard:  \", np.mean(pN), \" +/- \", np.std(pN))\n",
    "print(\"Variance Reduction: \", (np.std(pN)/np.std(pS)))\n",
    "print(\"Offsprings: \", (np.mean(N3)))\n",
    "\n",
    "sns.set()\n",
    "f, ax = plt.subplots(1, 1)\n",
    "sns.distplot(pN, label=\"Standard MC\")\n",
    "sns.distplot(pS, label=\"Importance Sampling\")\n",
    "ax.legend()"
   ]
  },
  {
   "cell_type": "code",
   "execution_count": 103,
   "metadata": {},
   "outputs": [],
   "source": [
    "f.savefig(\"comparison.pdf\")"
   ]
  },
  {
   "cell_type": "code",
   "execution_count": 90,
   "metadata": {},
   "outputs": [
    {
     "data": {
      "text/plain": [
       "<matplotlib.axes._subplots.AxesSubplot at 0x1a1c349240>"
      ]
     },
     "execution_count": 90,
     "metadata": {},
     "output_type": "execute_result"
    },
    {
     "data": {
      "image/png": "[encoded data removed]",
      "text/plain": [
       "<matplotlib.figure.Figure at 0x1a1c322400>"
      ]
     },
     "metadata": {},
     "output_type": "display_data"
    }
   ],
   "source": [
    "sns.distplot(pN, label=\"Standard MC\")\n",
    "sns.distplot(p3, label=\"Importance Sampling\")\n",
    "sns.distplot(p2, label=\"Standard MC\")"
   ]
  },
  {
   "cell_type": "code",
   "execution_count": null,
   "metadata": {},
   "outputs": [],
   "source": []
  }
 ],
 "metadata": {
  "kernelspec": {
   "display_name": "Python 3",
   "language": "python",
   "name": "python3"
  },
  "language_info": {
   "codemirror_mode": {
    "name": "ipython",
    "version": 3
   },
   "file_extension": ".py",
   "mimetype": "text/x-python",
   "name": "python",
   "nbconvert_exporter": "python",
   "pygments_lexer": "ipython3",
   "version": "3.9.1"
  }
 },
 "nbformat": 4,
 "nbformat_minor": 2
}
