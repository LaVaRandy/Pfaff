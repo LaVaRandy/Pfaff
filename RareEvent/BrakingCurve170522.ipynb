{
 "cells": [
  {
   "cell_type": "code",
   "execution_count": 2,
   "metadata": {},
   "outputs": [],
   "source": [
    "import numpy as np\n",
    "import matplotlib.pyplot as plt\n",
    "import seaborn as sns"
   ]
  },
  {
   "cell_type": "code",
   "execution_count": 4,
   "metadata": {},
   "outputs": [
    {
     "ename": "KeyboardInterrupt",
     "evalue": "",
     "output_type": "error",
     "traceback": [
      "\u001b[0;31m---------------------------------------------------------------------------\u001b[0m",
      "\u001b[0;31mKeyboardInterrupt\u001b[0m                         Traceback (most recent call last)",
      "\u001b[0;32m<ipython-input-4-72255dd7524f>\u001b[0m in \u001b[0;36m<module>\u001b[0;34m\u001b[0m\n\u001b[1;32m     31\u001b[0m \u001b[0;34m\u001b[0m\u001b[0m\n\u001b[1;32m     32\u001b[0m \u001b[0;32mfor\u001b[0m \u001b[0mi\u001b[0m \u001b[0;32min\u001b[0m \u001b[0mnp\u001b[0m\u001b[0;34m.\u001b[0m\u001b[0marange\u001b[0m\u001b[0;34m(\u001b[0m\u001b[0;36m0\u001b[0m\u001b[0;34m,\u001b[0m \u001b[0mlen\u001b[0m\u001b[0;34m(\u001b[0m\u001b[0mF\u001b[0m\u001b[0;34m)\u001b[0m\u001b[0;34m,\u001b[0m \u001b[0;36m1\u001b[0m\u001b[0;34m)\u001b[0m\u001b[0;34m:\u001b[0m\u001b[0;34m\u001b[0m\u001b[0;34m\u001b[0m\u001b[0m\n\u001b[0;32m---> 33\u001b[0;31m     \u001b[0;32mwhile\u001b[0m \u001b[0mnp\u001b[0m\u001b[0;34m.\u001b[0m\u001b[0mmin\u001b[0m\u001b[0;34m(\u001b[0m\u001b[0mv\u001b[0m\u001b[0;34m)\u001b[0m \u001b[0;34m>\u001b[0m \u001b[0;36m0\u001b[0m\u001b[0;34m:\u001b[0m\u001b[0;34m\u001b[0m\u001b[0;34m\u001b[0m\u001b[0m\n\u001b[0m\u001b[1;32m     34\u001b[0m         \u001b[0ms\u001b[0m \u001b[0;34m=\u001b[0m \u001b[0ms\u001b[0m \u001b[0;34m+\u001b[0m \u001b[0mv\u001b[0m\u001b[0;34m*\u001b[0m\u001b[0mdt\u001b[0m\u001b[0;34m\u001b[0m\u001b[0;34m\u001b[0m\u001b[0m\n\u001b[1;32m     35\u001b[0m         \u001b[0mslist\u001b[0m\u001b[0;34m.\u001b[0m\u001b[0mappend\u001b[0m\u001b[0;34m(\u001b[0m\u001b[0ms\u001b[0m\u001b[0;34m)\u001b[0m\u001b[0;34m\u001b[0m\u001b[0;34m\u001b[0m\u001b[0m\n",
      "\u001b[0;32m<__array_function__ internals>\u001b[0m in \u001b[0;36mamin\u001b[0;34m(*args, **kwargs)\u001b[0m\n",
      "\u001b[0;32m~/opt/anaconda3/envs/control/lib/python3.9/site-packages/numpy/core/fromnumeric.py\u001b[0m in \u001b[0;36mamin\u001b[0;34m(a, axis, out, keepdims, initial, where)\u001b[0m\n\u001b[1;32m   2740\u001b[0m \u001b[0;34m\u001b[0m\u001b[0m\n\u001b[1;32m   2741\u001b[0m \u001b[0;34m\u001b[0m\u001b[0m\n\u001b[0;32m-> 2742\u001b[0;31m \u001b[0;34m@\u001b[0m\u001b[0marray_function_dispatch\u001b[0m\u001b[0;34m(\u001b[0m\u001b[0m_amin_dispatcher\u001b[0m\u001b[0;34m)\u001b[0m\u001b[0;34m\u001b[0m\u001b[0;34m\u001b[0m\u001b[0m\n\u001b[0m\u001b[1;32m   2743\u001b[0m def amin(a, axis=None, out=None, keepdims=np._NoValue, initial=np._NoValue,\n\u001b[1;32m   2744\u001b[0m          where=np._NoValue):\n",
      "\u001b[0;31mKeyboardInterrupt\u001b[0m: "
     ]
    },
    {
     "data": {
      "image/png": "[encoded data removed]",
      "text/plain": [
       "<Figure size 504x360 with 1 Axes>"
      ]
     },
     "metadata": {},
     "output_type": "display_data"
    }
   ],
   "source": [
    "N = 100;\n",
    "dt = .1;\n",
    "time = np.arange(0, 100, dt);\n",
    "tf = 1\n",
    " # Parameters\n",
    "#F = [800000 * 0.12, 900000*0.12, 1000000*0.12, 1100000*0.12]\n",
    "F = 0.15*np.arange(800000, 1200000, 400000)\n",
    "F2 = F-.01*F*np.random.rand(len(time))\n",
    "N = 100\n",
    "#F2 = np.convolve(v2, np.ones((N,))/N, mode='same')\n",
    "#F = [F, F2]\n",
    "m = 1.1*128000;\n",
    "v0 = 10/3.6;\n",
    "\n",
    "s = 0\n",
    "v = v0\n",
    "v2 = v0\n",
    "x = np.arange(500, 680, 1)\n",
    "y = 300*1/np.sqrt(6.28*30**2)*np.exp(-(x-590)**2/(2*30**2))\n",
    "\n",
    "plt.xkcd()\n",
    "fig, ax = plt.subplots(figsize = (7,5))\n",
    "sns.set()\n",
    "\n",
    "\n",
    "slist = []\n",
    "vlist = []\n",
    "v2list = []\n",
    "label = ['Optimal','Suboptimal']\n",
    "t = 0\n",
    "\n",
    "for i in np.arange(0, len(F), 1):\n",
    "    while np.min(v) > 0:\n",
    "        s = s + v*dt\n",
    "        slist.append(s)\n",
    "        if t*dt > tf:\n",
    "            v = v - F[i]/m*dt\n",
    "            vlist.append(v)\n",
    "            v2 = v2 - (F2[int(t)]/m*dt)\n",
    "            v2list.append(v2)\n",
    "        #t = t + dt\n",
    "    \n",
    "    plt.plot(slist, vlist, label = label[0])\n",
    "    plt.plot(slist, v2list , label = label[1])\n",
    "\n",
    "\n",
    "#v2 = v+2*v*(np.random.rand(len(v))-.5)\n",
    "#N = 100\n",
    "#v2 = np.convolve(v2, np.ones((N,))/N, mode='same')\n",
    "\n",
    "#plt.plot(s[50:-1], v2[50:-1], color = \"red\", label = 'Suboptimal')\n",
    "\n",
    "#plt.plot(x,y, color = 'green', alpha = 0.7)\n",
    "#ax.fill_between(x, y, 0, facecolor = 'green', alpha = 0.7)\n",
    "#ax.set_xlim([0, 900])\n",
    "ax.legend()\n",
    "plt.xlabel('s/m')\n",
    "plt.ylabel('v/m/s')\n",
    "plt.savefig('brakingcurvesCompXKCD.pdf') \n",
    "     "
   ]
  },
  {
   "cell_type": "code",
   "execution_count": 109,
   "metadata": {},
   "outputs": [
    {
     "data": {
      "text/plain": [
       "array([ 0.02777777,  0.02777777,  0.02777777,  0.02777777,  0.02777777,\n",
       "        0.02777777,  0.02777777,  0.02777777,  0.02777777,  0.02777777,\n",
       "        0.02777777,  0.02777777,  0.02777777,  0.02777777,  0.02777777,\n",
       "        0.02777777,  0.02777777,  0.02777777,  0.02777777,  0.02777777,\n",
       "        0.02777777,  0.02777777,  0.02777777,  0.02777777,  0.02777777,\n",
       "        0.02777777,  0.02777777,  0.02777777,  0.02777777,  0.02777777,\n",
       "        0.02777777,  0.02777777,  0.02777777,  0.02777777,  0.02777777,\n",
       "        0.02777777,  0.02777777,  0.02777777,  0.02777777,  0.02777777,\n",
       "        0.02777777,  0.02777777,  0.02777777,  0.02777777,  0.02777777,\n",
       "        0.02777777,  0.02777777,  0.02777777,  0.02777777,  0.02777777,\n",
       "        0.02777777,  0.02777777,  0.02777777,  0.02777777,  0.02777777,\n",
       "        0.02777777,  0.02777777,  0.02777777,  0.02777777,  0.02777777,\n",
       "        0.02777777,  0.02777777,  0.02777777,  0.02777777,  0.02777777,\n",
       "        0.02777777,  0.02777777,  0.02777777,  0.02777777,  0.02777777,\n",
       "        0.02777777,  0.02777777,  0.02777777,  0.02777777,  0.02777777,\n",
       "        0.02777777,  0.02777777,  0.02777777,  0.02777777,  0.02777777,\n",
       "        0.02777777,  0.02777777,  0.02777777,  0.02777777,  0.02777777,\n",
       "        0.02777777,  0.02777777,  0.02777777,  0.02777777,  0.02777777,\n",
       "        0.02777777,  0.02777777,  0.02777777,  0.02777777,  0.02777777,\n",
       "        0.02777777,  0.02777777,  0.02777777,  0.02777777,  0.02777777])"
      ]
     },
     "execution_count": 109,
     "metadata": {},
     "output_type": "execute_result"
    }
   ],
   "source": [
    "F2"
   ]
  },
  {
   "cell_type": "code",
   "execution_count": 17,
   "metadata": {},
   "outputs": [
    {
     "data": {
      "text/plain": [
       "(4312,)"
      ]
     },
     "execution_count": 17,
     "metadata": {},
     "output_type": "execute_result"
    }
   ],
   "source": [
    "v.shape"
   ]
  },
  {
   "cell_type": "code",
   "execution_count": 79,
   "metadata": {},
   "outputs": [
    {
     "data": {
      "text/plain": [
       "array([ 0.04432972,  0.04896471,  0.05402426,  0.05954042,  0.06554694,\n",
       "        0.07207927,  0.07917459,  0.08687177,  0.09521141,  0.10423577,\n",
       "        0.11398876,  0.12451587,  0.13586414,  0.14808205,  0.16121945,\n",
       "        0.17532745,  0.19045828,  0.20666514,  0.22400209,  0.24252379,\n",
       "        0.26228538,  0.28334221,  0.30574961,  0.32956266,  0.35483588,\n",
       "        0.38162298,  0.40997649,  0.43994749,  0.47158522,  0.50493674,\n",
       "        0.54004657,  0.57695628,  0.6157041 ,  0.65632453,  0.69884793,\n",
       "        0.74330007,  0.78970178,  0.83806849,  0.88840983,  0.94072926,\n",
       "        0.99502364,  1.05128289,  1.10948961,  1.1696188 ,  1.23163745,\n",
       "        1.29550438,  1.3611699 ,  1.42857562,  1.49765433,  1.56832977,\n",
       "        1.64051664,  1.71412047,  1.78903771,  1.86515572,  1.94235296,\n",
       "        2.02049907,  2.0994552 ,  2.17907419,  2.25920101,  2.33967309,\n",
       "        2.42032082,  2.50096806,  2.58143268,  2.66152722,  2.74105956,\n",
       "        2.81983361,  2.89765011,  2.97430743,  3.04960238,  3.12333113,\n",
       "        3.1952901 ,  3.26527683,  3.333091  ,  3.39853531,  3.46141644,\n",
       "        3.52154602,  3.57874154,  3.63282729,  3.68363524,  3.73100592,\n",
       "        3.77478923,  3.81484526,  3.85104503,  3.88327116,  3.91141853,\n",
       "        3.93539483,  3.95512107,  3.97053205,  3.98157664,  3.98821813,\n",
       "        3.99043442,  3.98821813,  3.98157664,  3.97053205,  3.95512107,\n",
       "        3.93539483,  3.91141853,  3.88327116,  3.85104503,  3.81484526,\n",
       "        3.77478923,  3.73100592,  3.68363524,  3.63282729,  3.57874154,\n",
       "        3.52154602,  3.46141644,  3.39853531,  3.333091  ,  3.26527683,\n",
       "        3.1952901 ,  3.12333113,  3.04960238,  2.97430743,  2.89765011,\n",
       "        2.81983361,  2.74105956,  2.66152722,  2.58143268,  2.50096806,\n",
       "        2.42032082,  2.33967309,  2.25920101,  2.17907419,  2.0994552 ,\n",
       "        2.02049907,  1.94235296,  1.86515572,  1.78903771,  1.71412047,\n",
       "        1.64051664,  1.56832977,  1.49765433,  1.42857562,  1.3611699 ,\n",
       "        1.29550438,  1.23163745,  1.1696188 ,  1.10948961,  1.05128289,\n",
       "        0.99502364,  0.94072926,  0.88840983,  0.83806849,  0.78970178,\n",
       "        0.74330007,  0.69884793,  0.65632453,  0.6157041 ,  0.57695628,\n",
       "        0.54004657,  0.50493674,  0.47158522,  0.43994749,  0.40997649,\n",
       "        0.38162298,  0.35483588,  0.32956266,  0.30574961,  0.28334221,\n",
       "        0.26228538,  0.24252379,  0.22400209,  0.20666514,  0.19045828,\n",
       "        0.17532745,  0.16121945,  0.14808205,  0.13586414,  0.12451587,\n",
       "        0.11398876,  0.10423577,  0.09521141,  0.08687177,  0.07917459,\n",
       "        0.07207927,  0.06554694,  0.05954042,  0.05402426,  0.04896471])"
      ]
     },
     "execution_count": 79,
     "metadata": {},
     "output_type": "execute_result"
    }
   ],
   "source": [
    "y"
   ]
  },
  {
   "cell_type": "code",
   "execution_count": null,
   "metadata": {},
   "outputs": [],
   "source": []
  }
 ],
 "metadata": {
  "kernelspec": {
   "display_name": "Python 3",
   "language": "python",
   "name": "python3"
  },
  "language_info": {
   "codemirror_mode": {
    "name": "ipython",
    "version": 3
   },
   "file_extension": ".py",
   "mimetype": "text/x-python",
   "name": "python",
   "nbconvert_exporter": "python",
   "pygments_lexer": "ipython3",
   "version": "3.9.1"
  }
 },
 "nbformat": 4,
 "nbformat_minor": 2
}
