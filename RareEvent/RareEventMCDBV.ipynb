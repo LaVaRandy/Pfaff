{
 "cells": [
  {
   "cell_type": "code",
   "execution_count": 1,
   "metadata": {},
   "outputs": [],
   "source": [
    "import numpy as np\n",
    "import matplotlib.pyplot as plt\n",
    "from matplotlib.ticker import FormatStrFormatter\n",
    "import seaborn as sns\n",
    "%matplotlib inline"
   ]
  },
  {
   "cell_type": "code",
   "execution_count": 2,
   "metadata": {},
   "outputs": [],
   "source": [
    "np.random.seed(42)"
   ]
  },
  {
   "cell_type": "code",
   "execution_count": 3,
   "metadata": {},
   "outputs": [],
   "source": [
    "import time\n",
    "\n",
    "def TicTocGenerator():\n",
    "    # Generator that returns time differences\n",
    "    ti = 0           # initial time\n",
    "    tf = time.time() # final time\n",
    "    while True:\n",
    "        ti = tf\n",
    "        tf = time.time()\n",
    "        yield tf-ti # returns the time difference\n",
    "\n",
    "TicToc = TicTocGenerator() # create an instance of the TicTocGen generator\n",
    "\n",
    "# This will be the main function through which we define both tic() and toc()\n",
    "def toc(tempBool=True):\n",
    "    # Prints the time difference yielded by generator instance TicToc\n",
    "    tempTimeInterval = next(TicToc)\n",
    "    if tempBool:\n",
    "        print( \"Elapsed time: %f seconds.\\n\" %tempTimeInterval )\n",
    "\n",
    "def tic():\n",
    "    # Records a time in TicToc, marks the beginning of a time interval\n",
    "    toc(False)\n",
    "    \n",
    "#Function definition to advance MC one step further\n",
    "def advanceMC(S, P):\n",
    "    S = int(S)\n",
    "    P = np.cumsum(P, axis = 1)\n",
    "    Smax = P.shape[1]\n",
    "    r = np.random.rand(1)\n",
    "    if (r<=P[S,0]):\n",
    "        S = 0\n",
    "    else:\n",
    "        for i in range(1, Smax):\n",
    "            if (r>P[S,i-1])&(r<=P[S,i]):\n",
    "                S = i\n",
    "    return S\n",
    "\n",
    "# Clone MC O times\n",
    "def cloneMC(S, P, j, O, M):\n",
    "    R = 0\n",
    "    for i in range(1, int(O)):\n",
    "        # Preset current state\n",
    "        CS = S\n",
    "        for k in range(j,M-j):\n",
    "            CS = advanceMC(CS, P)\n",
    "            if CS == S+1:\n",
    "                R = R+1\n",
    "                break\n",
    "    return R"
   ]
  },
  {
   "cell_type": "code",
   "execution_count": 35,
   "metadata": {},
   "outputs": [
    {
     "name": "stdout",
     "output_type": "stream",
     "text": [
      "Elapsed time: 0.157158 seconds.\n",
      "\n"
     ]
    },
    {
     "data": {
      "text/plain": [
       "<matplotlib.colorbar.Colorbar at 0x114dcd080>"
      ]
     },
     "execution_count": 35,
     "metadata": {},
     "output_type": "execute_result"
    },
    {
     "data": {
      "image/png": "[encoded data removed]",
      "text/plain": [
       "<matplotlib.figure.Figure at 0x114d950f0>"
      ]
     },
     "metadata": {},
     "output_type": "display_data"
    }
   ],
   "source": [
    "M = 100; # Number of MC samples (Length of chain)\n",
    "L = 1e2; # Number of initial Simulations\n",
    "O = 1e3; # Number of Offsprings\n",
    "\n",
    "# Transition probability\n",
    "p01 = 0.5\n",
    "p00 = 1 - p01\n",
    "p10 = 0.1\n",
    "p12 = 3.62752e-05 #2.64e-5 + 9.53e-5\n",
    "p11 = 1-p10-p12\n",
    "p20 = 0.1\n",
    "p23 = 1e-4\n",
    "p22 = 1-p20-p23\n",
    "p33 = 1\n",
    "\n",
    "P = np.matrix([[p00, p01, 0, 0],[p10,p11, p12, 0], [p20,0, p22,p23], [0,0,0,p33]])\n",
    "MC = np.zeros((int(L),int(M)))\n",
    "P = P[1:,1:]\n",
    "tic()\n",
    "for i in range(0,int(L)):\n",
    "    for j in range(1,int(M)):\n",
    "        MC[i,j] = advanceMC(MC[i,j-1], P)\n",
    "toc()\n",
    "plt.matshow(MC, cmap = \"RdYlGn\")\n",
    "plt.colorbar()"
   ]
  },
  {
   "cell_type": "code",
   "execution_count": 6,
   "metadata": {},
   "outputs": [
    {
     "name": "stdout",
     "output_type": "stream",
     "text": [
      "Failure probability S3:  0.0\n",
      "Elapsed time: 11.486678 seconds.\n",
      "\n"
     ]
    }
   ],
   "source": [
    "M = 100; # Number of MC samples (Length of chain)\n",
    "L = 1e4; # Number of initial Simulations\n",
    "O = 1e3; # Number of Offsprings\n",
    "\n",
    "# Transition probability\n",
    "p01 = 0.5\n",
    "p00 = 1 - p01\n",
    "p10 = 0.1\n",
    "p12 = (0.013372+0.0047656)/500\n",
    "p11 = 1-p10-p12\n",
    "p20 = 0.1\n",
    "p23 = 1e-4\n",
    "p22 = 1-p20-p23\n",
    "p33 = 1\n",
    "\n",
    "P = np.matrix([[p00, p01, 0, 0],[p10,p11, p12, 0], [p20,0, p22,p23], [0,0,0,p33]])\n",
    "P = P[1:,1:]\n",
    "tic()\n",
    "R2 = 0\n",
    "R3 = 0\n",
    "N3 = 0\n",
    "for i in range(0,int(L)):\n",
    "    S = 0\n",
    "    #tic()\n",
    "    for j in range(1,int(M)):\n",
    "        #print(j)\n",
    "        S = advanceMC(S, P) \n",
    "        if S == 1:\n",
    "            R2 = R2 + 1\n",
    "            N3 = N3 + O\n",
    "            R3 = R3 + cloneMC(S, P, j, O, M)\n",
    "    #toc()\n",
    "    #print(i,S)\n",
    "\n",
    "p2 = R2/L\n",
    "p3 = 0\n",
    "if N3>0:\n",
    "    p3 = R3/N3\n",
    "p = p2*p3\n",
    "\n",
    "print(\"Failure probability S3: \", p/M)\n",
    "           \n",
    "toc()\n"
   ]
  },
  {
   "cell_type": "code",
   "execution_count": 38,
   "metadata": {},
   "outputs": [
    {
     "data": {
      "text/plain": [
       "0"
      ]
     },
     "execution_count": 38,
     "metadata": {},
     "output_type": "execute_result"
    }
   ],
   "source": [
    "R2"
   ]
  },
  {
   "cell_type": "code",
   "execution_count": 24,
   "metadata": {},
   "outputs": [
    {
     "data": {
      "text/plain": [
       "0"
      ]
     },
     "execution_count": 24,
     "metadata": {},
     "output_type": "execute_result"
    }
   ],
   "source": [
    "R3"
   ]
  },
  {
   "cell_type": "code",
   "execution_count": 199,
   "metadata": {},
   "outputs": [
    {
     "data": {
      "text/plain": [
       "214"
      ]
     },
     "execution_count": 199,
     "metadata": {},
     "output_type": "execute_result"
    }
   ],
   "source": [
    "R3"
   ]
  },
  {
   "cell_type": "code",
   "execution_count": 15,
   "metadata": {},
   "outputs": [
    {
     "data": {
      "text/plain": [
       "10000000.0"
      ]
     },
     "execution_count": 15,
     "metadata": {},
     "output_type": "execute_result"
    }
   ],
   "source": [
    "L+N3"
   ]
  },
  {
   "cell_type": "code",
   "execution_count": 197,
   "metadata": {},
   "outputs": [
    {
     "data": {
      "text/plain": [
       "3.62752e-05"
      ]
     },
     "execution_count": 197,
     "metadata": {},
     "output_type": "execute_result"
    }
   ],
   "source": [
    "(0.013372+0.0047656)/500"
   ]
  },
  {
   "cell_type": "code",
   "execution_count": null,
   "metadata": {},
   "outputs": [],
   "source": []
  }
 ],
 "metadata": {
  "kernelspec": {
   "display_name": "Python 3",
   "language": "python",
   "name": "python3"
  },
  "language_info": {
   "codemirror_mode": {
    "name": "ipython",
    "version": 3
   },
   "file_extension": ".py",
   "mimetype": "text/x-python",
   "name": "python",
   "nbconvert_exporter": "python",
   "pygments_lexer": "ipython3",
   "version": "3.5.4"
  }
 },
 "nbformat": 4,
 "nbformat_minor": 2
}
