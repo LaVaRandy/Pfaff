{
 "cells": [
  {
   "cell_type": "code",
   "execution_count": 1,
   "metadata": {},
   "outputs": [],
   "source": [
    "import numpy as np\n",
    "import matplotlib.pyplot as plt\n",
    "from matplotlib.ticker import FormatStrFormatter\n",
    "import seaborn as sns\n",
    "%matplotlib inline"
   ]
  },
  {
   "cell_type": "code",
   "execution_count": 2,
   "metadata": {},
   "outputs": [],
   "source": [
    "np.random.seed(42)"
   ]
  },
  {
   "cell_type": "code",
   "execution_count": 3,
   "metadata": {},
   "outputs": [],
   "source": [
    "import time\n",
    "\n",
    "def TicTocGenerator():\n",
    "    # Generator that returns time differences\n",
    "    ti = 0           # initial time\n",
    "    tf = time.time() # final time\n",
    "    while True:\n",
    "        ti = tf\n",
    "        tf = time.time()\n",
    "        yield tf-ti # returns the time difference\n",
    "\n",
    "TicToc = TicTocGenerator() # create an instance of the TicTocGen generator\n",
    "\n",
    "# This will be the main function through which we define both tic() and toc()\n",
    "def toc(tempBool=True):\n",
    "    # Prints the time difference yielded by generator instance TicToc\n",
    "    tempTimeInterval = next(TicToc)\n",
    "    if tempBool:\n",
    "        print( \"Elapsed time: %f seconds.\\n\" %tempTimeInterval )\n",
    "\n",
    "def tic():\n",
    "    # Records a time in TicToc, marks the beginning of a time interval\n",
    "    toc(False)"
   ]
  },
  {
   "cell_type": "code",
   "execution_count": 15,
   "metadata": {},
   "outputs": [
    {
     "name": "stdout",
     "output_type": "stream",
     "text": [
      "Elapsed time: 62.462810 seconds.\n",
      "\n",
      "Splitting:  3.19047619048e-10\n",
      "Offsprings:  6160000.0\n"
     ]
    }
   ],
   "source": [
    "N = 1;\n",
    "M = 30*14; # Number of MC samples (Length of chain)\n",
    "L = 1e5; # Number of initial Simulations\n",
    "O = 1e4; # Number of Offsprings\n",
    "\n",
    "# Transition probability\n",
    "pT1 = 1.5e-5;\n",
    "pT2 = 1e-7;\n",
    "I = np.zeros(int(L))\n",
    "p2 = np.zeros(int(N))\n",
    "p3 = np.zeros(int(N))\n",
    "IC = np.zeros(int(O))\n",
    "pS = np.zeros(int(N))\n",
    "pN = np.zeros(int(N))\n",
    "tic()\n",
    "for k in range(0,N):\n",
    "    for i in range(0,int(L)):\n",
    "        Ii = np.flatnonzero(np.random.rand(M) < pT1)\n",
    "        I[i] = min(Ii.tolist(), default=M+1)\n",
    "    # Calculate intermediate probability\n",
    "    R2 = np.sum(1.0*(I < M+1));\n",
    "    p2[k] = R2/L;\n",
    "    \n",
    "    N3 = 0;\n",
    "    R3 = 0;\n",
    "    for i in range(0, int(L)):\n",
    "        if (I[i] < M+1):\n",
    "            for j in range(0, int(O)):\n",
    "                # Clone succesful trajectories\n",
    "                YC = np.flatnonzero(np.random.rand(1,int(M-I[i]+1)) < pT2)\n",
    "                # Check Offsprings for succesful trajectories\n",
    "                IC[j] = min(YC.tolist(), default=M+1);\n",
    "            R3 = R3 + sum(1.0*(IC < M+1));\n",
    "            N3 = N3 + O;\n",
    "    if (N3 > 0):\n",
    "        p3[k] = R3/N3;\n",
    "    else:\n",
    "        p3[k] = 0;\n",
    "    nS = 0\n",
    "    pS[k] = p2[k]*p3[k]\n",
    "    #pN[k] = nS/(L+N3)\n",
    "\n",
    "toc()\n",
    "\n",
    "print(\"Splitting: \", np.mean(pS)/M)#, \" +/- \", np.std(pS))\n",
    "\n",
    "print(\"Offsprings: \", (np.mean(N3)))"
   ]
  },
  {
   "cell_type": "code",
   "execution_count": 16,
   "metadata": {},
   "outputs": [
    {
     "data": {
      "text/plain": [
       "134.0"
      ]
     },
     "execution_count": 16,
     "metadata": {},
     "output_type": "execute_result"
    }
   ],
   "source": [
    "R3"
   ]
  },
  {
   "cell_type": "code",
   "execution_count": 17,
   "metadata": {},
   "outputs": [
    {
     "data": {
      "text/plain": [
       "6260000.0"
      ]
     },
     "execution_count": 17,
     "metadata": {},
     "output_type": "execute_result"
    }
   ],
   "source": [
    "(L+N3)"
   ]
  },
  {
   "cell_type": "code",
   "execution_count": 13,
   "metadata": {},
   "outputs": [
    {
     "data": {
      "text/plain": [
       "12300000.0"
      ]
     },
     "execution_count": 13,
     "metadata": {},
     "output_type": "execute_result"
    }
   ],
   "source": [
    "N3"
   ]
  },
  {
   "cell_type": "code",
   "execution_count": null,
   "metadata": {},
   "outputs": [],
   "source": []
  }
 ],
 "metadata": {
  "kernelspec": {
   "display_name": "Python 3",
   "language": "python",
   "name": "python3"
  },
  "language_info": {
   "codemirror_mode": {
    "name": "ipython",
    "version": 3
   },
   "file_extension": ".py",
   "mimetype": "text/x-python",
   "name": "python",
   "nbconvert_exporter": "python",
   "pygments_lexer": "ipython3",
   "version": "3.5.4"
  }
 },
 "nbformat": 4,
 "nbformat_minor": 2
}
