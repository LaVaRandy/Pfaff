{
 "cells": [
  {
   "cell_type": "markdown",
   "id": "standing-billy",
   "metadata": {},
   "source": [
    "# Rare Event Simulation\n",
    "\n",
    "We will now deal with a problem that is frequently encountered in safety engineering and quality management, namely that the event we wish to analyse the probability is occurring at very low probability, sometimes in the range of $p = \\left[10^{-9}\\ldots 10^{-6}\\right]$. Following the MC-Simulation requirement that $N \\gg \\frac{1}{p}$ and the popular criterion $N \\geq 10^4 \\frac{1}{p}$ will put \n",
    "$N \\in \\left[10^{10}, 10^{13}\\right] $, a really high number for simulations.\n",
    "\n",
    "Most of these vast number of simulations however will turn out not to be interesting to the simulation stakeholders, e.g. show the safe braking distance or acceptable parts in a production.\n",
    "\n",
    "Rare event approaches aim to increase the number of \"good\" samples in a MC-simulation by increasing either the probability of the rare samples or by replicating \"good\" instances of the simulation, we will visit both in this section."
   ]
  },
  {
   "cell_type": "code",
   "execution_count": 1,
   "id": "capital-lender",
   "metadata": {},
   "outputs": [],
   "source": [
    "# Standard imports\n",
    "import numpy as np\n",
    "import matplotlib.pyplot as plt\n",
    "# We will additionally need the normal distribution from the stats package\n",
    "from scipy.stats import norm"
   ]
  },
  {
   "cell_type": "markdown",
   "id": "circular-specification",
   "metadata": {},
   "source": [
    "## A scholarly example\n",
    "\n",
    "Lets assume we want to estimate the probability of outcomes $x\\geq4$ where $x$ is drawn from the standard normal distribution, termed $f$. The probability for this is analytically determined to be $3.17\\cdot10^{-5}$.\n",
    "\n",
    "We will estimate by drawing samples from the original distribution $f$ as well as the modified distribution $\\tilde{f}$, which can be moved by modifying $\\mu_1$ as well as varied by changing $\\sigma_1$.\n",
    "\n",
    "The relative frequency, multiplied by the correcting factor\n",
    "$$ L = \\frac{\\int_x^\\infty f(y) dy}{\\int_x^\\infty \\tilde{f}(y) dy},$$\n",
    "is then an estimator for the probability of an event of the outcome being at least $x$."
   ]
  },
  {
   "cell_type": "code",
   "execution_count": 3,
   "id": "cordless-utility",
   "metadata": {},
   "outputs": [
    {
     "name": "stdout",
     "output_type": "stream",
     "text": [
      "Observations\n",
      "MC:   0.0\n",
      "IS:   21.0\n",
      "Estimated Probabilities\n",
      "MC:   0.0\n",
      "IS:   2.9234822901708406e-05\n",
      "True: 3.167124183311986e-05\n"
     ]
    },
    {
     "data": {
      "image/png": "[encoded data removed]",
      "text/plain": [
       "<Figure size 432x288 with 1 Axes>"
      ]
     },
     "metadata": {
      "needs_background": "light"
     },
     "output_type": "display_data"
    }
   ],
   "source": [
    "rng = np.random.default_rng()\n",
    "# Number of MC-samples\n",
    "N = 1000\n",
    "# Original distribution\n",
    "sigma0 = 1\n",
    "mu0 = 0\n",
    "# Modified distribution\n",
    "sigma1 = 2\n",
    "mu1 = 0\n",
    "# Critical distance, we look for p(x>distcrit)\n",
    "distcrit = 4\n",
    "# Simulate both distributions\n",
    "X = rng.normal(loc = mu0, scale = sigma0, size = N)\n",
    "XIS = rng.normal(loc = mu1, scale = sigma1, size = N)\n",
    "# Linear axis\n",
    "x = np.linspace(0,distcrit,100)\n",
    "# Correction factor over the axis\n",
    "L = norm.sf(x, loc=mu0, scale=sigma0)/norm.sf(x, loc=mu1, scale=sigma1)\n",
    "# Plotting histograms\n",
    "plt.hist(XIS, alpha = 0.5, bins = 30, label = 'Original')\n",
    "plt.hist(X, alpha = 0.5, bins = 30, label = 'Importance Sampling')\n",
    "plt.legend()\n",
    "print('Observations')\n",
    "print('MC:   ' + str(np.sum(1.0*(X>distcrit))))\n",
    "print('IS:   ' + str(np.sum(1.0*(XIS>distcrit))))\n",
    "print('Estimated Probabilities')\n",
    "print('MC:   ' + str(1/N*np.sum(1.0*(X>distcrit))))\n",
    "print('IS:   ' + str(L[-1]/N*np.sum(1.0*(XIS>distcrit))))\n",
    "print('True: ' + str(norm.sf(distcrit, loc=mu0, scale=sigma0)))"
   ]
  },
  {
   "cell_type": "markdown",
   "id": "hearing-magic",
   "metadata": {},
   "source": [
    "## Exercise\n",
    "\n",
    "Repeat the above example with different parameters for\n",
    "\n",
    "- IS distribution ($\\mu$, $\\sigma$)\n",
    "- Number of samples\n",
    "\n",
    "What do you observe?"
   ]
  },
  {
   "cell_type": "markdown",
   "id": "extended-warning",
   "metadata": {},
   "source": [
    "## Scholarly example revisited\n",
    "\n",
    "Since rare event simulation can increase the probability of observing a high number of outcomes, or outcomes at all, it also reduces the variance of the estimators mostly."
   ]
  },
  {
   "cell_type": "code",
   "execution_count": 4,
   "id": "younger-collection",
   "metadata": {},
   "outputs": [
    {
     "name": "stdout",
     "output_type": "stream",
     "text": [
      "Average Observations\n",
      "MC:   0.021\n",
      "IS:   159.239\n",
      "Average Estimated Probabilities\n",
      "MC:   2.1000000000000002e-05, +/- 0.0002867681990737468\n",
      "IS:   3.178777098956333e-05, +/- 4.673939931994223e-06\n",
      "True: 3.167124183311986e-05\n"
     ]
    },
    {
     "data": {
      "image/png": "[encoded data removed]",
      "text/plain": [
       "<Figure size 432x576 with 2 Axes>"
      ]
     },
     "metadata": {
      "needs_background": "light"
     },
     "output_type": "display_data"
    }
   ],
   "source": [
    "# Number of MC-samples\n",
    "N = 1000\n",
    "# Number of MC-samples of MC-samples\n",
    "M = 1000\n",
    "# Original distribution\n",
    "sigma0 = 1\n",
    "mu0 = 0\n",
    "# Modified distribution\n",
    "sigma1 = 4\n",
    "mu1 = 0\n",
    "# Critical distance, we look for p(x>distcrit)\n",
    "distcrit = 4\n",
    "# Initialise some lists\n",
    "OL0 = []\n",
    "OL1 = []\n",
    "PL0 = []\n",
    "PL1 = []\n",
    "# IS Correction factor\n",
    "L = norm.sf(distcrit, loc=mu0, scale=sigma0)/norm.sf(distcrit, loc=mu1, scale=sigma1)\n",
    "for i in np.linspace(1,M,M):\n",
    "    # Simulate both distributions\n",
    "    X = rng.normal(loc = mu0, scale = sigma0, size = N)\n",
    "    XIS = rng.normal(loc = mu1, scale = sigma1, size = N)\n",
    "    OL0.append(np.sum(1.0*(X>distcrit)))\n",
    "    OL1.append(np.sum(1.0*(XIS>distcrit)))\n",
    "    PL0.append(1/N*np.sum(1.0*(X>distcrit)))\n",
    "    PL1.append(L/N*np.sum(1.0*(XIS>distcrit)))\n",
    "\n",
    "\n",
    "# Plotting histograms\n",
    "plt.figure(figsize = (6,8))\n",
    "plt.subplot(211)\n",
    "plt.ylabel('Probability')\n",
    "plt.hist(PL0, alpha = 0.5, bins = 30, label = 'Original')\n",
    "plt.hist(PL1, alpha = 0.5, bins = 30, label = 'Importance Sampling')\n",
    "plt.legend()\n",
    "plt.subplot(212)\n",
    "plt.ylabel('Observations')\n",
    "plt.hist(OL0, alpha = 0.5, bins = 30, label = 'Original')\n",
    "plt.hist(OL1, alpha = 0.5, bins = 30, label = 'Importance Sampling')\n",
    "plt.legend()\n",
    "\n",
    "print('Average Observations')\n",
    "print('MC:   ' + str(np.mean(OL0)))\n",
    "print('IS:   ' + str(np.mean(OL1)))\n",
    "print('Average Estimated Probabilities')\n",
    "print('MC:   ' + str(np.mean(PL0)) +', +/- '+ str(2*np.std(PL0)))\n",
    "print('IS:   ' + str(np.mean(PL1)) +', +/- '+ str(2*np.std(PL1)))\n",
    "print('True: ' + str(norm.sf(distcrit, loc=mu0, scale=sigma0)))"
   ]
  },
  {
   "cell_type": "markdown",
   "id": "victorian-ghost",
   "metadata": {},
   "source": [
    "## Exercise\n",
    "\n",
    "Repeat the above example with different values for \n",
    "\n",
    "- IS distribution ($\\mu$, $\\sigma$),\n",
    "- Number of samples and\n",
    "- critical distance.\n",
    "\n",
    "What do you observe."
   ]
  },
  {
   "cell_type": "markdown",
   "id": "careful-romantic",
   "metadata": {},
   "source": [
    "## Braking curves revisited\n",
    "\n",
    "The braking curves problem that we treated in the previous section is interesting in itself for the full distribution, however we are mostly worried about the rare occasions where a rail vehicle stops behind a danger point. The danger point may be a the (potentially present) end of a train or a switch. According to Deutsche Bahn guidelines, it is standard to place this danger point at least 200 m behind the signal.\n",
    "\n",
    "This makes the braking distance beyond 1000 m the one to be subjected to critical assessment.\n",
    "\n",
    "We will now simulate what happens at which probability behind the signal for a 40 wagon train using standard MC-Simulations as well as two importance sampling (IS) approaches:\n",
    "\n",
    "1. Increase standard deviation of block friction coefficients\n",
    "1. Move block friction coefficient distribution to lower values"
   ]
  },
  {
   "cell_type": "markdown",
   "id": "amino-calvin",
   "metadata": {},
   "source": [
    "The algorithm operates in this way:\n",
    "\n",
    "1. Parameter settings\n",
    "    1. Simulation parameters\n",
    "    1. Special parameters for rare event sampling (Importance Sampling)\n",
    "    1. Train parameters\n",
    "1. Initialisation of lists to collect results\n",
    "1. For all virtually assembled trains:\n",
    "    - Calculate train-related parameters (e.g. filling time)\n",
    "    - Calculate braking distance\n",
    "    - Store results \n",
    "    - Calculate correcting factors acc. to IS\n",
    "1. Analyse excess of critical braking distance\n",
    "1. Plot results\n"
   ]
  },
  {
   "cell_type": "code",
   "execution_count": 5,
   "id": "entire-dakota",
   "metadata": {},
   "outputs": [],
   "source": [
    "############################\n",
    "# Simulation parameters\n",
    "# Number of random samples\n",
    "N = 10000\n",
    "# Histogram bins\n",
    "bins = 50 \n",
    "# Random number generator\n",
    "rng = np.random.default_rng(42) # Fix for repeatability\n",
    "# Critical distance range\n",
    "skrit = np.arange(1100, 1300, 30) \n",
    "\n",
    "############################\n",
    "# Importance sampling parameters\n",
    "# Wider SD for IS Method 1\n",
    "k = 2\n",
    "# Move Gaussian l*sd for Method 2\n",
    "l = 0.5\n",
    "\n",
    "############################\n",
    "# Train parameters\n",
    "# Initial velocity\n",
    "v0 = 100/3.6\n",
    "# Number of wagons\n",
    "NWagons = 40\n",
    "# Brake pipe signal propagation velocity\n",
    "c = 250\n",
    "# Wagon data (Length/wagon mass min/max)       \n",
    "minMass = 90000\n",
    "maxMass = 80000\n",
    "# Brake cylinder pressure\n",
    "pmin = 3.7\n",
    "pmax = 3.9\n",
    "lengthArray = np.array([10.8, 14.2, 21.0])\n",
    "# Friction behaviour according to Karwatzki\n",
    "# ki parameters\n",
    "k1 = 0.055\n",
    "k2 = 200\n",
    "k3 = 50\n",
    "k4 = 150\n",
    "k5 = 75\n",
    "# Force per brake block\n",
    "Fb = 10\n",
    "# Average friction coefficient over braking process\n",
    "muMean = 1/v0/3.6*k1*((Fb + k2)/(Fb+k3))*((k4-k5)*(np.log(3.6*v0 + k5) - np.log(k5)))\n",
    "muSD = 0.03\n",
    "#muMin = muMean - muSD\n",
    "# Brake rigging\n",
    "etaMin = 0.81\n",
    "etaMax = 0.9\n",
    "# Nominal braking force\n",
    "bfNom = 4.8800000e+05\n",
    "# Brake mode\n",
    "tfmax = 30\n",
    "tfmin = 18\n",
    "\n",
    "############################\n",
    "# Initialise lists to collect results\n",
    "sBrake = []\n",
    "sBrake1 = []\n",
    "sBrake2 = []\n",
    "muBrake = []\n",
    "muBrake1 = []\n",
    "muBrake2 = []\n",
    "Lmu1 = []\n",
    "Lmu2 = []\n",
    "pL = []\n",
    "p1L = []\n",
    "p2L = []\n",
    "nL = []\n",
    "n1L = []\n",
    "n2L = []\n",
    "\n",
    "for i in range(0,N-1):\n",
    "    ##############################\n",
    "    # Monte Carlo Input Variables\n",
    "    # Filling time\n",
    "    tf = rng.uniform(low = tfmin, high = tfmax, size = NWagons)\n",
    "    # Brake block friction coefficient\n",
    "    mu = rng.normal(loc = muMean, scale = muSD, size = NWagons)\n",
    "    ##############################\n",
    "    # Importance sampling\n",
    "    # Increased weight on low friction coefficients\n",
    "    # IS Method 1\n",
    "    mu1 = rng.normal(loc =  (muMean - l*muSD), \n",
    "                     scale = muSD, size = NWagons)\n",
    "    # IS Method 2\n",
    "    mu2 = rng.normal(loc = muMean, scale = k*muSD, \n",
    "                     size = NWagons)\n",
    "    # Brake rigging efficiency\n",
    "    eta = 1/etaMax*rng.uniform(low = etaMin, high = etaMax, \n",
    "                               size = NWagons)\n",
    "    # Brake cylinder pressure, scaled between to 1 for standard\n",
    "    cp = 1/3.8*rng.uniform(low = pmin, high = pmax, \n",
    "                           size = NWagons)\n",
    "    # Train setup\n",
    "    # Randomly select from length array and do cumulative sums, \n",
    "    # yielding array of distances from loco to wagon\n",
    "    trainPos = np.cumsum(rng.choice(lengthArray, NWagons))\n",
    "    # Train mass\n",
    "    trainMass = rng.uniform(low = minMass, high = maxMass, \n",
    "                            size = NWagons)\n",
    "    #################################\n",
    "    # Train braking forces acc. to \n",
    "    # Standard Monte Carlo\n",
    "    trainBForce = bfNom * mu * eta * cp\n",
    "    # IS Method 1\n",
    "    trainBForce1 = np.ones(NWagons)*bfNom * mu1 * eta * cp\n",
    "    # IS Method 2\n",
    "    trainBForce2 = np.ones(NWagons)*bfNom * mu2 * eta * cp \n",
    "    #################################\n",
    "    # Average filling time of train acc. to random individual filling times\n",
    "    # weighed acc. to individual brake force\n",
    "    tfAverage = np.mean(trainBForce * (tf + trainPos/c))/np.mean(trainBForce)\n",
    "    ################################\n",
    "    # Braking distance acc. to \n",
    "    # Standard Monte Carlo\n",
    "    s = v0**2/(2*sum(trainBForce)/sum(trainMass))+v0*tfAverage/2\n",
    "    # IS Method 1\n",
    "    s1 = v0**2/(2*sum(trainBForce1)/sum(trainMass))+v0*tfAverage/2\n",
    "    # IS Method 2\n",
    "    s2 = v0**2/(2*sum(trainBForce2)/sum(trainMass))+v0*tfAverage/2\n",
    "    \n",
    "    ################################\n",
    "    # Append to list defined above\n",
    "    sBrake.append(s)\n",
    "    sBrake1.append(s1)\n",
    "    sBrake2.append(s2)\n",
    "    muBrake.append(np.mean(mu))\n",
    "    muBrake1.append(np.mean(mu1))\n",
    "    muBrake2.append(np.mean(mu2))\n",
    "\n",
    "#################################\n",
    "# Calculate corrected likelihoods according IS algorithm\n",
    "mu0 = np.mean(sBrake)\n",
    "mu1 = np.mean(sBrake1)\n",
    "mu2 = np.mean(sBrake2)\n",
    "sigma0 = np.std(sBrake)\n",
    "sigma1 = np.std(sBrake1)\n",
    "sigma2 = np.std(sBrake2)\n",
    "############################\n",
    "# For all critical distances\n",
    "for sk in skrit:\n",
    "    # Correction factor\n",
    "    L1 = norm.sf(sk, loc=mu0, scale=sigma0)/norm.sf(sk, loc=mu1, scale=sigma1)\n",
    "    L2 = norm.sf(sk, loc=mu0, scale=sigma0)/norm.sf(sk, loc=mu2, scale=sigma2)\n",
    "    # Convert lists to arrays\n",
    "    sBrake = np.array(sBrake)\n",
    "    sBrake1 = np.array(sBrake1)\n",
    "    sBrake2 = np.array(sBrake2)\n",
    "    # Create an indicator array of ones\n",
    "    Ind = np.ones(sBrake.shape)\n",
    "    ############################\n",
    "    # Probability of s > skrit as relative frequency\n",
    "    # Standard MC\n",
    "    p = 1/N*np.sum(Ind[sBrake > sk])\n",
    "    # IS Method 1\n",
    "    p1 = L1*1/N*np.sum(Ind[sBrake1 > sk])\n",
    "    # IS Method 2\n",
    "    p2 = L2*1/N*np.sum(Ind[sBrake2 > sk])\n",
    "    # Observed occurrences\n",
    "    n = np.sum(Ind[sBrake > sk])\n",
    "    n1 = np.sum(Ind[sBrake1 > sk])\n",
    "    n2 = np.sum(Ind[sBrake2 > sk])\n",
    "    # Append results to lists\n",
    "    pL.append(p)\n",
    "    p1L.append(p1)\n",
    "    p2L.append(p2)\n",
    "    nL.append(n)\n",
    "    n1L.append(n1)\n",
    "    n2L.append(n2)"
   ]
  },
  {
   "cell_type": "code",
   "execution_count": 6,
   "id": "lined-effort",
   "metadata": {},
   "outputs": [
    {
     "data": {
      "image/png": "[encoded data removed]",
      "text/plain": [
       "<Figure size 576x432 with 2 Axes>"
      ]
     },
     "metadata": {
      "needs_background": "light"
     },
     "output_type": "display_data"
    },
    {
     "data": {
      "image/png": "[encoded data removed]",
      "text/plain": [
       "<Figure size 432x288 with 2 Axes>"
      ]
     },
     "metadata": {
      "needs_background": "light"
     },
     "output_type": "display_data"
    }
   ],
   "source": [
    "#############################\n",
    "# Plotting \n",
    "############################\n",
    "# Strings for saving figures\n",
    "histstring = 'figures/plots/hist.png'\n",
    "rarestring = 'figures/plots/rare.png'\n",
    "\n",
    "plt.figure(figsize=(8,6))\n",
    "plt.subplot(211)\n",
    "# Histogram range\n",
    "xmin = np.min([sBrake, sBrake1, sBrake2])\n",
    "xmax = np.max([sBrake, sBrake1, sBrake2])\n",
    "plt.hist(sBrake, bins, range = (xmin, xmax), alpha = 0.5, label = 'Standard')\n",
    "plt.hist(sBrake1, bins, range = (xmin, xmax), alpha = 0.5, label = 'mu + sigma')\n",
    "plt.hist(sBrake2, bins, range = (xmin, xmax), alpha = 0.5, label = 'k * mu')\n",
    "plt.xlabel('s/m')\n",
    "plt.ylabel('frequency')\n",
    "plt.grid()\n",
    "plt.legend()\n",
    "plt.subplot(212)\n",
    "# Histogram range\n",
    "xmin = np.min([muBrake, muBrake1, muBrake2])\n",
    "xmax = np.max([muBrake, muBrake1, muBrake2])\n",
    "plt.hist(muBrake, bins, range = (xmin, xmax), alpha = 0.5, label = 'Standard')\n",
    "plt.hist(muBrake1, bins, range = (xmin, xmax), alpha = 0.5, label = 'mu + sigma')\n",
    "plt.hist(muBrake2, bins, range = (xmin, xmax), alpha = 0.5, label = 'k * mu')\n",
    "plt.xlabel('s/m')\n",
    "plt.ylabel('frequency')\n",
    "plt.grid()\n",
    "plt.legend()\n",
    "plt.savefig(histstring)\n",
    "\n",
    "\n",
    "fig3, ax3 = plt.subplots()\n",
    "plt.plot(skrit, pL, label = 'Standard')\n",
    "plt.plot(skrit, p1L, label = 'mu + sigma')\n",
    "plt.plot(skrit, p2L, label = 'k * mu')\n",
    "plt.xlabel('s/m')\n",
    "plt.ylabel('Probability')\n",
    "ax3.grid()\n",
    "ax4 = ax3.twinx()\n",
    "ax4.plot(skrit, nL, linestyle='--')\n",
    "ax4.plot(skrit, n1L, linestyle='--')\n",
    "ax4.plot(skrit, n2L, linestyle='--')\n",
    "ax4.set_ylabel('Occurrences (dashed)')\n",
    "ax3.legend()\n",
    "plt.savefig(rarestring)"
   ]
  },
  {
   "cell_type": "markdown",
   "id": "other-proposition",
   "metadata": {},
   "source": [
    "From the above plots, we easily see that due to the comparably low number of MC-Simulations, the standard MC-Methods does not observe results in the critical distance range, while both IS approaches do. Further, the corrected probabilities indicate that such braking behaviour would occur at low probabilities even for braking under the original conditions."
   ]
  },
  {
   "cell_type": "markdown",
   "id": "seventh-significance",
   "metadata": {},
   "source": [
    "## Exercise\n",
    "\n",
    "Vary the braking parameters as well as the IS parameters and the number of MC-samples. What do you observe. Is the system safe?"
   ]
  },
  {
   "cell_type": "markdown",
   "id": "residential-worthy",
   "metadata": {},
   "source": [
    "## Markov Chain Simulation with IS by splitting\n",
    "\n",
    "While the above examples show a continuous output, discrete states are also freqently the case, especially in the area of reliability. This can be approximated well by Markov Chains, i.e. collections of states and transition probability.\n",
    "\n",
    "Let us consider an example of a connection with a cold redundancy, exhibting three states:\n",
    "\n",
    "- $S_0$: Fully operational\n",
    "- $S_1$: Operational on cold redundancy\n",
    "- $S_2$: Failure\n",
    "\n",
    "Luckily, the failure probabilities of the individual levels are rather low. Values for $p_{01}$ and $p_{12}$ define the probability for state transition from $S_0$ to $S_1$ and $S_1$ to $S_2$, respectively.\n",
    "\n",
    "![](figures/MarkovChain.png)\n",
    "\n",
    "How likely is it that the system with these parameters fails during a 100h inspection interval?\n",
    "\n",
    "The IS approach in this case is to clone \"successful\" chains, i.e. such that progressed to the initial failure states and simulate these with a higher number, the so called offsprings.\n",
    "\n",
    "As the number of offsprings is known, it is easy to correct the results for the higher frequency of failure.\n",
    "\n",
    "In the example below, the standard MC as well as the splitting IS approach can be compared in a Monte Carlo simulation."
   ]
  },
  {
   "cell_type": "code",
   "execution_count": 7,
   "id": "north-democracy",
   "metadata": {},
   "outputs": [
    {
     "name": "stdout",
     "output_type": "stream",
     "text": [
      "Splitting:  0.0005064999999999999  +/-  8.539759949787816e-05\n",
      "Standard:   0.0005361265817386119  +/-  0.00019924415331549634\n",
      "Variance Reduction:  2.3331352928772535\n",
      "Offsprings:  8500.0\n"
     ]
    },
    {
     "data": {
      "image/png": "[encoded data removed]",
      "text/plain": [
       "<Figure size 432x576 with 2 Axes>"
      ]
     },
     "metadata": {
      "needs_background": "light"
     },
     "output_type": "display_data"
    }
   ],
   "source": [
    "N = 100; # Number of repeated simulations\n",
    "M = 100; # Number of MC samples (Length of chain)\n",
    "L = 1e3; # Number of initial Simulations\n",
    "O = 1e2; # Number of Offsprings\n",
    "\n",
    "# Transition probability\n",
    "p01 = 0.001\n",
    "p12 = 0.0001\n",
    "# Prepared arrays to save values\n",
    "I = np.zeros(int(L))\n",
    "p2 = np.zeros(int(N))\n",
    "p3 = np.zeros(int(N))\n",
    "IC = np.zeros(int(O))\n",
    "pS = np.zeros(int(N))\n",
    "pN = np.zeros(int(N))\n",
    "# Repeat the MC example N times\n",
    "for k in range(0,N):\n",
    "    # Initial simulations from P0\n",
    "    for i in range(0,int(L)):\n",
    "        Ii = np.flatnonzero(rng.uniform(size=N) < p01)\n",
    "        I[i] = min(Ii.tolist(), default=M+1)\n",
    "    # Calculate intermediate probability\n",
    "    R2 = np.sum(1.0*(I < M+1));\n",
    "    p2[k] = R2/L;\n",
    "    \n",
    "    N3 = 0;\n",
    "    R3 = 0;\n",
    "    for i in range(0, int(L)):\n",
    "        if (I[i] < M+1):\n",
    "            for j in range(0, int(O)):\n",
    "                # Clone succesful trajectories\n",
    "                YC = np.flatnonzero(rng.uniform(size=int(M-I[i]+1)) < p12)\n",
    "                # Check Offsprings for succesful trajectories\n",
    "                IC[j] = min(YC.tolist(), default=M+1);\n",
    "            R3 = R3 + sum(1.0*(IC < M+1));\n",
    "            N3 = N3 + O;\n",
    "    if (N3 > 0):\n",
    "        p3[k] = R3/N3;\n",
    "    else:\n",
    "        p3[k] = 0;\n",
    "    nS = 0\n",
    "    ##############################\n",
    "    # Standard MC of comparable length\n",
    "    for m in range(0, int(L+N3)):\n",
    "        Ii = np.flatnonzero(rng.uniform(size=M) < p01)\n",
    "        I1 = min(Ii.tolist(), default=M+1)\n",
    "        Ii = np.flatnonzero(rng.uniform(size=int(M-I1+1)) < p12)\n",
    "        nS = nS + (min(Ii.tolist(), default=M+1) < M+1)\n",
    "    pS[k] = p2[k]*p3[k]\n",
    "    pN[k] = nS/(L+N3)\n",
    "\n",
    "# Plotting\n",
    "plt.figure(figsize=(6,8))\n",
    "plt.subplot(211)\n",
    "plt.hist(pN, label=\"Standard MC\")\n",
    "plt.legend()\n",
    "plt.subplot(212)\n",
    "plt.hist(pS, label=\"Importance Sampling\")\n",
    "plt.legend()\n",
    "\n",
    "print(\"Splitting: \", np.mean(pS), \" +/- \", np.std(pS))\n",
    "print(\"Standard:  \", np.mean(pN), \" +/- \", np.std(pN))\n",
    "print(\"Variance Reduction: \", (np.std(pN)/np.std(pS)))\n",
    "print(\"Offsprings: \", (np.mean(N3)))\n"
   ]
  },
  {
   "cell_type": "markdown",
   "id": "quiet-pocket",
   "metadata": {},
   "source": [
    "## Exercise\n",
    "\n",
    "Try different parameters in the simulation example, e.g. for the number of offsprings or the transition probabilities. What do you observe?\n",
    "\n",
    "Careful: simulation times may get long!"
   ]
  },
  {
   "cell_type": "code",
   "execution_count": null,
   "id": "controlled-engineer",
   "metadata": {},
   "outputs": [],
   "source": []
  }
 ],
 "metadata": {
  "kernelspec": {
   "display_name": "control",
   "language": "python",
   "name": "control"
  },
  "language_info": {
   "codemirror_mode": {
    "name": "ipython",
    "version": 3
   },
   "file_extension": ".py",
   "mimetype": "text/x-python",
   "name": "python",
   "nbconvert_exporter": "python",
   "pygments_lexer": "ipython3",
   "version": "3.8.3"
  }
 },
 "nbformat": 4,
 "nbformat_minor": 5
}
