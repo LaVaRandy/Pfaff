{
 "cells": [
  {
   "cell_type": "markdown",
   "id": "documented-sequence",
   "metadata": {},
   "source": [
    "# Text processing from image data\n",
    "\n",
    "In this section we will use Tesseract to obtain data from a printed document."
   ]
  },
  {
   "cell_type": "code",
   "execution_count": null,
   "id": "arctic-orange",
   "metadata": {},
   "outputs": [],
   "source": [
    "# Imports\n",
    "from PIL import Image, ImageFont, ImageDraw, Image\n",
    "from dateutil.parser import parse\n",
    "import pytesseract\n",
    "import numpy as np\n",
    "import cv2\n",
    "from operator import itemgetter\n",
    "import itertools\n",
    "import matplotlib.pyplot as plt\n",
    "# Helper function to provide plots in true colors in the notebook\n",
    "def imshow(title, im):\n",
    "    plt.imshow(cv2.cvtColor(im, cv2.COLOR_BGR2RGB))\n",
    "    plt.title(title)"
   ]
  },
  {
   "cell_type": "markdown",
   "id": "economic-telling",
   "metadata": {},
   "source": [
    "Mostly, the information we wish to process is structured graphically, so we can create a list of ROI beforehand."
   ]
  },
  {
   "cell_type": "code",
   "execution_count": null,
   "id": "overhead-honolulu",
   "metadata": {},
   "outputs": [],
   "source": [
    "im = cv2.imread('figures/BusinessCard.png')\n",
    "plt.figure(figsize = (18,10))\n",
    "imshow('Input', im)\n",
    "plt.grid()"
   ]
  },
  {
   "cell_type": "markdown",
   "id": "revised-three",
   "metadata": {},
   "source": [
    "The ROI data can be well stored in a dictionary."
   ]
  },
  {
   "cell_type": "code",
   "execution_count": null,
   "id": "answering-transition",
   "metadata": {},
   "outputs": [],
   "source": [
    "ROI = {\n",
    "'Name': [80, 1180, 900, 100, -55], # Name\n",
    "'Position': [80, 1400, 1150, 100, 200], # Position\n",
    "'Mail': [80, 2250, 900, 120, 250], # Mail\n",
    "}"
   ]
  },
  {
   "cell_type": "markdown",
   "id": "sitting-stability",
   "metadata": {},
   "source": [
    "The text recognition starts with the transfer of the cropped ROIs to tesseract and ends with plotting on the image or saving in a dict."
   ]
  },
  {
   "cell_type": "code",
   "execution_count": null,
   "id": "sealed-dressing",
   "metadata": {},
   "outputs": [],
   "source": [
    "for name, region in ROI.items():\n",
    "    Values = ROI\n",
    "    [x, y, w, h, o] = region\n",
    "    plt.figure()\n",
    "    cropped = im[y :y +  h , x : x + w]\n",
    "    imshow(name, cropped)\n",
    "    string = pytesseract.image_to_string(cropped)\n",
    "    Values[name] = string[0:-2]\n",
    "    cv2.putText(im, name +': ' + string[0:-2], \n",
    "                (x,y+o), \n",
    "                cv2.FONT_HERSHEY_SIMPLEX,  \n",
    "                1.5, (255,0,0), 4, cv2.LINE_AA)\n",
    "plt.figure(figsize = (12,8))\n",
    "imshow('Read image', im)\n",
    "print(Values)"
   ]
  },
  {
   "cell_type": "markdown",
   "id": "differential-syndication",
   "metadata": {},
   "source": [
    "## Exercise\n",
    "\n",
    "Read my phone number and the FH Aachen website"
   ]
  },
  {
   "cell_type": "code",
   "execution_count": null,
   "id": "actual-bench",
   "metadata": {},
   "outputs": [],
   "source": []
  },
  {
   "cell_type": "markdown",
   "id": "square-master",
   "metadata": {},
   "source": [
    "## Exercise\n",
    "\n",
    "Read a form of your choice, preferrably in a non-English language using e.g. the ```lang='deu'```-Option."
   ]
  },
  {
   "cell_type": "code",
   "execution_count": null,
   "id": "eleven-native",
   "metadata": {},
   "outputs": [],
   "source": []
  }
 ],
 "metadata": {
  "kernelspec": {
   "display_name": "Python 3",
   "language": "python",
   "name": "python3"
  },
  "language_info": {
   "codemirror_mode": {
    "name": "ipython",
    "version": 3
   },
   "file_extension": ".py",
   "mimetype": "text/x-python",
   "name": "python",
   "nbconvert_exporter": "python",
   "pygments_lexer": "ipython3",
   "version": "3.9.1"
  }
 },
 "nbformat": 4,
 "nbformat_minor": 5
}
